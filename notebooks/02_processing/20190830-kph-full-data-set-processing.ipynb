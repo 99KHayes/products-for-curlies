{
 "cells": [
  {
   "cell_type": "code",
   "execution_count": 7,
   "metadata": {},
   "outputs": [
    {
     "name": "stdout",
     "output_type": "stream",
     "text": [
      "The autoreload extension is already loaded. To reload it, use:\n",
      "  %reload_ext autoreload\n"
     ]
    }
   ],
   "source": [
    "# Import packages\n",
    " # import fuzzywizzy?\n",
    "import pandas as pd\n",
    "import numpy as np\n",
    "import matplotlib.pyplot as plt\n",
    "import pymongo\n",
    "import string\n",
    "import nltk\n",
    "import re\n",
    "import os\n",
    "import sys\n",
    "import pandas_profiling as pp\n",
    "import missingno as msno\n",
    "\n",
    "\n",
    "src_dir = os.path.join(os.getcwd(), '..', '..', 'src')\n",
    "sys.path.append(src_dir)\n",
    "\n",
    "# helper functions\n",
    "from d02_processing.cleaning_signatures import clean_signatures\n",
    "\n",
    "# Load the \"autoreload\" extension\n",
    "%load_ext autoreload\n",
    "\n",
    "# reload modules so that as you change code in src, it gets loaded\n",
    "%autoreload\n",
    "\n",
    "%matplotlib inline"
   ]
  },
  {
   "cell_type": "code",
   "execution_count": 2,
   "metadata": {
    "scrolled": true
   },
   "outputs": [
    {
     "name": "stdout",
     "output_type": "stream",
     "text": [
      "7961\n"
     ]
    }
   ],
   "source": [
    "# open up a mongo cursor and query the db for all the signatures and return a list of unique signatures\n",
    "\n",
    "# create cursor\n",
    "myclient = pymongo.MongoClient(\"mongodb://127.0.0.1:27017/\")\n",
    "curlydb = myclient['Naturaly_Curly_db']\n",
    "curly_collection = curlydb['curly_profiles']\n",
    "\n",
    "# Access all the unique items and store them to a list\n",
    "query_1 = curly_collection.find({})\n",
    "test = []\n",
    "for x in query_1:\n",
    "    test.append(x['signature'])\n",
    "\n",
    "# This is the number of total unique entire in the database\n",
    "unique_sigs = list(set(test))\n",
    "print(len(unique_sigs))"
   ]
  },
  {
   "cell_type": "code",
   "execution_count": 4,
   "metadata": {},
   "outputs": [
    {
     "data": {
      "text/html": [
       "<div>\n",
       "<style scoped>\n",
       "    .dataframe tbody tr th:only-of-type {\n",
       "        vertical-align: middle;\n",
       "    }\n",
       "\n",
       "    .dataframe tbody tr th {\n",
       "        vertical-align: top;\n",
       "    }\n",
       "\n",
       "    .dataframe thead th {\n",
       "        text-align: right;\n",
       "    }\n",
       "</style>\n",
       "<table border=\"1\" class=\"dataframe\">\n",
       "  <thead>\n",
       "    <tr style=\"text-align: right;\">\n",
       "      <th></th>\n",
       "      <th>curl_pattern</th>\n",
       "      <th>density</th>\n",
       "      <th>porosity</th>\n",
       "      <th>texture</th>\n",
       "      <th>products</th>\n",
       "    </tr>\n",
       "  </thead>\n",
       "  <tbody>\n",
       "    <tr>\n",
       "      <th>0</th>\n",
       "      <td>NaN</td>\n",
       "      <td>NaN</td>\n",
       "      <td>NaN</td>\n",
       "      <td>NaN</td>\n",
       "      <td></td>\n",
       "    </tr>\n",
       "    <tr>\n",
       "      <th>1</th>\n",
       "      <td>3b</td>\n",
       "      <td>NaN</td>\n",
       "      <td>NaN</td>\n",
       "      <td>NaN</td>\n",
       "      <td>hair type color feria 20 shampoo suave clarify...</td>\n",
       "    </tr>\n",
       "    <tr>\n",
       "      <th>2</th>\n",
       "      <td>NaN</td>\n",
       "      <td>thin</td>\n",
       "      <td>NaN</td>\n",
       "      <td>NaN</td>\n",
       "      <td>real generosity is doing someg nice for someon...</td>\n",
       "    </tr>\n",
       "    <tr>\n",
       "      <th>3</th>\n",
       "      <td>3c</td>\n",
       "      <td>NaN</td>\n",
       "      <td>NaN</td>\n",
       "      <td>fine</td>\n",
       "      <td>suze trying to succeed with growing healthy ha...</td>\n",
       "    </tr>\n",
       "    <tr>\n",
       "      <th>4</th>\n",
       "      <td>4c</td>\n",
       "      <td>NaN</td>\n",
       "      <td>NaN</td>\n",
       "      <td>fine</td>\n",
       "      <td>suze trying to succeed with growing healthy ha...</td>\n",
       "    </tr>\n",
       "  </tbody>\n",
       "</table>\n",
       "</div>"
      ],
      "text/plain": [
       "  curl_pattern density porosity texture  \\\n",
       "0          NaN     NaN      NaN     NaN   \n",
       "1           3b     NaN      NaN     NaN   \n",
       "2          NaN    thin      NaN     NaN   \n",
       "3           3c     NaN      NaN    fine   \n",
       "4           4c     NaN      NaN    fine   \n",
       "\n",
       "                                            products  \n",
       "0                                                     \n",
       "1  hair type color feria 20 shampoo suave clarify...  \n",
       "2  real generosity is doing someg nice for someon...  \n",
       "3  suze trying to succeed with growing healthy ha...  \n",
       "4  suze trying to succeed with growing healthy ha...  "
      ]
     },
     "execution_count": 4,
     "metadata": {},
     "output_type": "execute_result"
    }
   ],
   "source": [
    "raw_characteristics_df = clean_signatures(unique_sigs)\n",
    "raw_characteristics_df.head()"
   ]
  },
  {
   "cell_type": "code",
   "execution_count": 9,
   "metadata": {},
   "outputs": [
    {
     "data": {
      "text/plain": [
       "<matplotlib.axes._subplots.AxesSubplot at 0x1a1b276048>"
      ]
     },
     "execution_count": 9,
     "metadata": {},
     "output_type": "execute_result"
    },
    {
     "data": {
      "image/png": "[encoded data removed]",
      "text/plain": [
       "<Figure size 1800x720 with 2 Axes>"
      ]
     },
     "metadata": {
      "needs_background": "light"
     },
     "output_type": "display_data"
    }
   ],
   "source": [
    "msno.matrix(raw_characteristics_df)"
   ]
  },
  {
   "cell_type": "code",
   "execution_count": 10,
   "metadata": {},
   "outputs": [
    {
     "data": {
      "text/plain": [
       "curl_pattern     7423\n",
       "density          3031\n",
       "porosity         2604\n",
       "texture          2717\n",
       "products        10402\n",
       "dtype: int64"
      ]
     },
     "execution_count": 10,
     "metadata": {},
     "output_type": "execute_result"
    }
   ],
   "source": [
    "raw_characteristics_df.count()"
   ]
  },
  {
   "cell_type": "code",
   "execution_count": 16,
   "metadata": {},
   "outputs": [
    {
     "data": {
      "text/plain": [
       "curl_pattern    7423\n",
       "density         3031\n",
       "porosity        2604\n",
       "texture         2717\n",
       "products        7961\n",
       "dtype: int64"
      ]
     },
     "execution_count": 16,
     "metadata": {},
     "output_type": "execute_result"
    }
   ],
   "source": [
    "all_nan_dropped_df = raw_characteristics_df.dropna(axis=0, how='all', subset=['curl_pattern', 'density', 'porosity', 'texture'], inplace=False)\n",
    "all_nan_dropped_df.count()"
   ]
  },
  {
   "cell_type": "code",
   "execution_count": 21,
   "metadata": {},
   "outputs": [
    {
     "data": {
      "text/html": [
       "<div>\n",
       "<style scoped>\n",
       "    .dataframe tbody tr th:only-of-type {\n",
       "        vertical-align: middle;\n",
       "    }\n",
       "\n",
       "    .dataframe tbody tr th {\n",
       "        vertical-align: top;\n",
       "    }\n",
       "\n",
       "    .dataframe thead th {\n",
       "        text-align: right;\n",
       "    }\n",
       "</style>\n",
       "<table border=\"1\" class=\"dataframe\">\n",
       "  <thead>\n",
       "    <tr style=\"text-align: right;\">\n",
       "      <th></th>\n",
       "      <th>curl_pattern</th>\n",
       "      <th>density</th>\n",
       "      <th>porosity</th>\n",
       "      <th>texture</th>\n",
       "      <th>products</th>\n",
       "    </tr>\n",
       "  </thead>\n",
       "  <tbody>\n",
       "    <tr>\n",
       "      <th>9</th>\n",
       "      <td>2c</td>\n",
       "      <td>thin</td>\n",
       "      <td>medium</td>\n",
       "      <td>fine</td>\n",
       "      <td>dormroomcurly blogspot com twitter com dormroo...</td>\n",
       "    </tr>\n",
       "    <tr>\n",
       "      <th>10</th>\n",
       "      <td>3a</td>\n",
       "      <td>thin</td>\n",
       "      <td>medium</td>\n",
       "      <td>fine</td>\n",
       "      <td>dormroomcurly blogspot com twitter com dormroo...</td>\n",
       "    </tr>\n",
       "    <tr>\n",
       "      <th>98</th>\n",
       "      <td>3a</td>\n",
       "      <td>medium</td>\n",
       "      <td>high</td>\n",
       "      <td>fine</td>\n",
       "      <td>bleached jaw legnth inverted bob cowash suav...</td>\n",
       "    </tr>\n",
       "    <tr>\n",
       "      <th>99</th>\n",
       "      <td>2c</td>\n",
       "      <td>medium</td>\n",
       "      <td>high</td>\n",
       "      <td>fine</td>\n",
       "      <td>bleached jaw legnth inverted bob cowash suav...</td>\n",
       "    </tr>\n",
       "    <tr>\n",
       "      <th>112</th>\n",
       "      <td>2c</td>\n",
       "      <td>curls</td>\n",
       "      <td>low</td>\n",
       "      <td>medium</td>\n",
       "      <td>whirly experimenting as usual i ve found that...</td>\n",
       "    </tr>\n",
       "    <tr>\n",
       "      <th>135</th>\n",
       "      <td>2c</td>\n",
       "      <td>low</td>\n",
       "      <td>ish</td>\n",
       "      <td></td>\n",
       "      <td>since september 2011 type normal to  co wash o...</td>\n",
       "    </tr>\n",
       "    <tr>\n",
       "      <th>136</th>\n",
       "      <td>3a</td>\n",
       "      <td>low</td>\n",
       "      <td>ish</td>\n",
       "      <td></td>\n",
       "      <td>since september 2011 type normal to  co wash o...</td>\n",
       "    </tr>\n",
       "    <tr>\n",
       "      <th>138</th>\n",
       "      <td>2a</td>\n",
       "      <td>thin</td>\n",
       "      <td>average</td>\n",
       "      <td>medium</td>\n",
       "      <td>since 5 18 10 canopy underneath low still lear...</td>\n",
       "    </tr>\n",
       "    <tr>\n",
       "      <th>139</th>\n",
       "      <td>3a</td>\n",
       "      <td>thin</td>\n",
       "      <td>average</td>\n",
       "      <td>medium</td>\n",
       "      <td>since 5 18 10 canopy underneath low still lear...</td>\n",
       "    </tr>\n",
       "    <tr>\n",
       "      <th>162</th>\n",
       "      <td>2b</td>\n",
       "      <td>medium</td>\n",
       "      <td>low</td>\n",
       "      <td>fine</td>\n",
       "      <td>my guess at my hair mix of  above shoulder le...</td>\n",
       "    </tr>\n",
       "    <tr>\n",
       "      <th>163</th>\n",
       "      <td>2c</td>\n",
       "      <td>medium</td>\n",
       "      <td>low</td>\n",
       "      <td>fine</td>\n",
       "      <td>my guess at my hair mix of  above shoulder le...</td>\n",
       "    </tr>\n",
       "    <tr>\n",
       "      <th>168</th>\n",
       "      <td>3a</td>\n",
       "      <td>medium</td>\n",
       "      <td>low</td>\n",
       "      <td>coarse</td>\n",
       "      <td>b low elasticity just above the shoulders pre...</td>\n",
       "    </tr>\n",
       "    <tr>\n",
       "      <th>181</th>\n",
       "      <td>2b</td>\n",
       "      <td>medium</td>\n",
       "      <td>normal</td>\n",
       "      <td>fine</td>\n",
       "      <td>low</td>\n",
       "    </tr>\n",
       "    <tr>\n",
       "      <th>185</th>\n",
       "      <td>3b</td>\n",
       "      <td>thick</td>\n",
       "      <td>medium</td>\n",
       "      <td>fine</td>\n",
       "      <td>very dry bsl right now i am using gvp conditio...</td>\n",
       "    </tr>\n",
       "    <tr>\n",
       "      <th>232</th>\n",
       "      <td>2c</td>\n",
       "      <td>high</td>\n",
       "      <td>low</td>\n",
       "      <td>fine</td>\n",
       "      <td>f lp hd l ne low normal elasticity hairtype lo...</td>\n",
       "    </tr>\n",
       "    <tr>\n",
       "      <th>244</th>\n",
       "      <td>3a</td>\n",
       "      <td>medium</td>\n",
       "      <td>medium</td>\n",
       "      <td>fine</td>\n",
       "      <td>hair type b extra low to shampoo aveda be curl...</td>\n",
       "    </tr>\n",
       "    <tr>\n",
       "      <th>248</th>\n",
       "      <td>2b</td>\n",
       "      <td>medium</td>\n",
       "      <td>low</td>\n",
       "      <td>fine</td>\n",
       "      <td>mixed mostly long  elasticity silicone and su...</td>\n",
       "    </tr>\n",
       "    <tr>\n",
       "      <th>249</th>\n",
       "      <td>2c</td>\n",
       "      <td>medium</td>\n",
       "      <td>low</td>\n",
       "      <td>fine</td>\n",
       "      <td>mixed mostly long  elasticity silicone and su...</td>\n",
       "    </tr>\n",
       "    <tr>\n",
       "      <th>250</th>\n",
       "      <td>2c</td>\n",
       "      <td>medium</td>\n",
       "      <td>on</td>\n",
       "      <td>course</td>\n",
       "      <td>waves with a little thrown in for fun on the ...</td>\n",
       "    </tr>\n",
       "    <tr>\n",
       "      <th>251</th>\n",
       "      <td>3a</td>\n",
       "      <td>medium</td>\n",
       "      <td>on</td>\n",
       "      <td>course</td>\n",
       "      <td>waves with a little thrown in for fun on the ...</td>\n",
       "    </tr>\n",
       "  </tbody>\n",
       "</table>\n",
       "</div>"
      ],
      "text/plain": [
       "    curl_pattern density porosity texture  \\\n",
       "9             2c    thin   medium    fine   \n",
       "10            3a    thin   medium    fine   \n",
       "98            3a  medium     high    fine   \n",
       "99            2c  medium     high    fine   \n",
       "112           2c   curls      low  medium   \n",
       "135           2c     low      ish           \n",
       "136           3a     low      ish           \n",
       "138           2a    thin  average  medium   \n",
       "139           3a    thin  average  medium   \n",
       "162           2b  medium      low    fine   \n",
       "163           2c  medium      low    fine   \n",
       "168           3a  medium      low  coarse   \n",
       "181           2b  medium   normal    fine   \n",
       "185           3b   thick   medium    fine   \n",
       "232           2c    high      low    fine   \n",
       "244           3a  medium   medium    fine   \n",
       "248           2b  medium      low    fine   \n",
       "249           2c  medium      low    fine   \n",
       "250           2c  medium       on  course   \n",
       "251           3a  medium       on  course   \n",
       "\n",
       "                                              products  \n",
       "9    dormroomcurly blogspot com twitter com dormroo...  \n",
       "10   dormroomcurly blogspot com twitter com dormroo...  \n",
       "98     bleached jaw legnth inverted bob cowash suav...  \n",
       "99     bleached jaw legnth inverted bob cowash suav...  \n",
       "112   whirly experimenting as usual i ve found that...  \n",
       "135  since september 2011 type normal to  co wash o...  \n",
       "136  since september 2011 type normal to  co wash o...  \n",
       "138  since 5 18 10 canopy underneath low still lear...  \n",
       "139  since 5 18 10 canopy underneath low still lear...  \n",
       "162   my guess at my hair mix of  above shoulder le...  \n",
       "163   my guess at my hair mix of  above shoulder le...  \n",
       "168   b low elasticity just above the shoulders pre...  \n",
       "181                                               low   \n",
       "185  very dry bsl right now i am using gvp conditio...  \n",
       "232  f lp hd l ne low normal elasticity hairtype lo...  \n",
       "244  hair type b extra low to shampoo aveda be curl...  \n",
       "248   mixed mostly long  elasticity silicone and su...  \n",
       "249   mixed mostly long  elasticity silicone and su...  \n",
       "250   waves with a little thrown in for fun on the ...  \n",
       "251   waves with a little thrown in for fun on the ...  "
      ]
     },
     "execution_count": 21,
     "metadata": {},
     "output_type": "execute_result"
    }
   ],
   "source": [
    "# check to see what the data frame looks like with a complete set  of characteristics, but its not complete becasue we need to sort out non acceptable values like 'ish'\n",
    "no_nan_df = raw_characteristics_df.dropna(how='any')\n",
    "no_nan_df.head(20)"
   ]
  },
  {
   "cell_type": "code",
   "execution_count": null,
   "metadata": {},
   "outputs": [],
   "source": [
    "all_nan"
   ]
  }
 ],
 "metadata": {
  "kernelspec": {
   "display_name": "Python 3",
   "language": "python",
   "name": "python3"
  },
  "language_info": {
   "codemirror_mode": {
    "name": "ipython",
    "version": 3
   },
   "file_extension": ".py",
   "mimetype": "text/x-python",
   "name": "python",
   "nbconvert_exporter": "python",
   "pygments_lexer": "ipython3",
   "version": "3.7.3"
  }
 },
 "nbformat": 4,
 "nbformat_minor": 2
}
