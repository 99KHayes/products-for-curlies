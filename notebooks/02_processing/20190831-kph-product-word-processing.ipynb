{
 "cells": [
  {
   "cell_type": "code",
   "execution_count": 2,
   "metadata": {},
   "outputs": [
    {
     "name": "stdout",
     "output_type": "stream",
     "text": [
      "The autoreload extension is already loaded. To reload it, use:\n",
      "  %reload_ext autoreload\n"
     ]
    }
   ],
   "source": [
    "# Import packages\n",
    " # import fuzzywizzy?\n",
    "import pandas as pd\n",
    "import numpy as np\n",
    "import matplotlib.pyplot as plt\n",
    "import pymongo\n",
    "import string\n",
    "import nltk\n",
    "import re\n",
    "import os\n",
    "import sys\n",
    "import pandas_profiling as pp\n",
    "import missingno as msno\n",
    "import warnings\n",
    "warnings.filterwarnings('ignore')\n",
    "\n",
    "\n",
    "src_dir = os.path.join(os.getcwd(), '..', '..', 'src')\n",
    "sys.path.append(src_dir)\n",
    "\n",
    "# helper functions\n",
    "from d02_processing.cleaning_signatures import sorted_signatures\n",
    "from d02_processing.cleaning_signatures import cleaned_signatures\n",
    "from d01_utils.mongo_cursor_creator import mongo_cursor\n",
    "\n",
    "# Load the \"autoreload\" extension\n",
    "%load_ext autoreload\n",
    "\n",
    "# reload modules so that as you change code in src, it gets loaded\n",
    "%autoreload\n",
    "\n",
    "%matplotlib inline"
   ]
  },
  {
   "cell_type": "code",
   "execution_count": 4,
   "metadata": {},
   "outputs": [
    {
     "data": {
      "text/plain": [
       "['',\n",
       " '2c/3a, fine texture, normal porosity, medium-to-thick\\nCo wash: Vo5 Extra Body\\nConditioners: Deva One Condition, GVP CB, Loreal Evercurl\\nStylers: Devacurl ArcAngel, KCCC, AG Recoil, Iso Bouncy Creme, Ecostyler Krystal, CCCCL, KCKT\\nLow Poo: Devacurl NoPoo, GTTT\\nHair likes: plopping, diffusing, SMaster\\'s, coconut and argan oil, honey, protein\\n\"What makes a woman unforgettable? Her mind...surrounded by lots of naturally curly hair\"',\n",
       " 'True 3B\\ncoarse, overly porous, normal elasticity, thick\\nOn the long transitioning road...\\nDiscovered Curly: November 24, 2009:toothy3:\\nHates: humectants, protein, rain, wind, humidity, plopping\\nLoves: moisture, ecostyler, sallys conditioning balm\\n\\n:wav:\\n\\n\\n\\n\\n\\n\\n\\n\\n',\n",
       " \"Silence grows\\nMy feelings flow\\nI'm dreaming now\\nOf all the things I know\\n\",\n",
       " \"I've learned that no matter what happens, or how bad it seems today, life does go on, and it will be better tomorrow.\\n\\n3 b/c shoulder length hair. Black-brown color. It's always mistaken for a Jericurl in less enlightened parts of the US.\"]"
      ]
     },
     "execution_count": 4,
     "metadata": {},
     "output_type": "execute_result"
    }
   ],
   "source": [
    "# import the unique signatures from the database\n",
    "sigs_from_cursor = mongo_cursor()\n",
    "sigs_from_cursor[0:5]"
   ]
  },
  {
   "cell_type": "code",
   "execution_count": 5,
   "metadata": {},
   "outputs": [
    {
     "data": {
      "text/html": [
       "<div>\n",
       "<style scoped>\n",
       "    .dataframe tbody tr th:only-of-type {\n",
       "        vertical-align: middle;\n",
       "    }\n",
       "\n",
       "    .dataframe tbody tr th {\n",
       "        vertical-align: top;\n",
       "    }\n",
       "\n",
       "    .dataframe thead th {\n",
       "        text-align: right;\n",
       "    }\n",
       "</style>\n",
       "<table border=\"1\" class=\"dataframe\">\n",
       "  <thead>\n",
       "    <tr style=\"text-align: right;\">\n",
       "      <th></th>\n",
       "      <th>curl_pattern</th>\n",
       "      <th>density</th>\n",
       "      <th>porosity</th>\n",
       "      <th>texture</th>\n",
       "      <th>products</th>\n",
       "    </tr>\n",
       "  </thead>\n",
       "  <tbody>\n",
       "    <tr>\n",
       "      <th>0</th>\n",
       "      <td>NaN</td>\n",
       "      <td>NaN</td>\n",
       "      <td>NaN</td>\n",
       "      <td>NaN</td>\n",
       "      <td></td>\n",
       "    </tr>\n",
       "    <tr>\n",
       "      <th>1</th>\n",
       "      <td>2c</td>\n",
       "      <td>thick</td>\n",
       "      <td>normal</td>\n",
       "      <td>fine</td>\n",
       "      <td>to co wash vo5 extra body conditioners deva ...</td>\n",
       "    </tr>\n",
       "    <tr>\n",
       "      <th>2</th>\n",
       "      <td>3a</td>\n",
       "      <td>thick</td>\n",
       "      <td>normal</td>\n",
       "      <td>fine</td>\n",
       "      <td>to co wash vo5 extra body conditioners deva ...</td>\n",
       "    </tr>\n",
       "    <tr>\n",
       "      <th>3</th>\n",
       "      <td>3b</td>\n",
       "      <td>thick</td>\n",
       "      <td>NaN</td>\n",
       "      <td>NaN</td>\n",
       "      <td>true coarse overly porous normal elasticity on...</td>\n",
       "    </tr>\n",
       "    <tr>\n",
       "      <th>4</th>\n",
       "      <td>NaN</td>\n",
       "      <td>thin</td>\n",
       "      <td>NaN</td>\n",
       "      <td>NaN</td>\n",
       "      <td>silence grows my feelings flow i m dreaming no...</td>\n",
       "    </tr>\n",
       "  </tbody>\n",
       "</table>\n",
       "</div>"
      ],
      "text/plain": [
       "  curl_pattern density porosity texture  \\\n",
       "0          NaN     NaN      NaN     NaN   \n",
       "1           2c   thick   normal    fine   \n",
       "2           3a   thick   normal    fine   \n",
       "3           3b   thick      NaN     NaN   \n",
       "4          NaN    thin      NaN     NaN   \n",
       "\n",
       "                                            products  \n",
       "0                                                     \n",
       "1    to co wash vo5 extra body conditioners deva ...  \n",
       "2    to co wash vo5 extra body conditioners deva ...  \n",
       "3  true coarse overly porous normal elasticity on...  \n",
       "4  silence grows my feelings flow i m dreaming no...  "
      ]
     },
     "execution_count": 5,
     "metadata": {},
     "output_type": "execute_result"
    }
   ],
   "source": [
    "# sort the signatures\n",
    "raw_characteristics_df = sorted_signatures(sigs_from_cursor)\n",
    "raw_characteristics_df.head()"
   ]
  },
  {
   "cell_type": "code",
   "execution_count": null,
   "metadata": {},
   "outputs": [],
   "source": []
  }
 ],
 "metadata": {
  "kernelspec": {
   "display_name": "Python 3",
   "language": "python",
   "name": "python3"
  },
  "language_info": {
   "codemirror_mode": {
    "name": "ipython",
    "version": 3
   },
   "file_extension": ".py",
   "mimetype": "text/x-python",
   "name": "python",
   "nbconvert_exporter": "python",
   "pygments_lexer": "ipython3",
   "version": "3.7.3"
  }
 },
 "nbformat": 4,
 "nbformat_minor": 2
}
