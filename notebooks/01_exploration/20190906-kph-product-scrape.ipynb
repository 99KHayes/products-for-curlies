{
 "cells": [
  {
   "cell_type": "code",
   "execution_count": 25,
   "metadata": {},
   "outputs": [],
   "source": [
    "from bs4 import BeautifulSoup\n",
    "import requests\n",
    "import pymongo\n",
    "import time\n",
    "import random\n",
    "from selenium import webdriver"
   ]
  },
  {
   "cell_type": "code",
   "execution_count": 24,
   "metadata": {},
   "outputs": [
    {
     "ename": "AttributeError",
     "evalue": "module 'selenium' has no attribute 'webdriver'",
     "output_type": "error",
     "traceback": [
      "\u001b[0;31m---------------------------------------------------------------------------\u001b[0m",
      "\u001b[0;31mAttributeError\u001b[0m                            Traceback (most recent call last)",
      "\u001b[0;32m<ipython-input-24-735737fb301a>\u001b[0m in \u001b[0;36m<module>\u001b[0;34m\u001b[0m\n\u001b[0;32m----> 1\u001b[0;31m \u001b[0mselenium\u001b[0m\u001b[0;34m.\u001b[0m\u001b[0mwebdriver\u001b[0m\u001b[0;34m(\u001b[0m\u001b[0;34m)\u001b[0m\u001b[0;34m\u001b[0m\u001b[0;34m\u001b[0m\u001b[0m\n\u001b[0m",
      "\u001b[0;31mAttributeError\u001b[0m: module 'selenium' has no attribute 'webdriver'"
     ]
    }
   ],
   "source": [
    "webdriver"
   ]
  },
  {
   "cell_type": "code",
   "execution_count": 2,
   "metadata": {},
   "outputs": [],
   "source": [
    "html_page = requests.get('https://www.ulta.com/hair-styling-products?N=26xf') #Make a get request to retrieve the page\n",
    "soup = BeautifulSoup(html_page.content, 'html.parser') #Pass the page contents to beautiful soup for parsing\n"
   ]
  },
  {
   "cell_type": "code",
   "execution_count": 13,
   "metadata": {},
   "outputs": [
    {
     "data": {
      "text/plain": [
       "'/hair-styling-products?N=26xf&No=96&Nrpp=96'"
      ]
     },
     "execution_count": 13,
     "metadata": {},
     "output_type": "execute_result"
    }
   ],
   "source": [
    "# next link on page\n",
    "list(soup.find_all(class_=\"next-prev\")[0].children)[1].get(\"href\")"
   ]
  },
  {
   "cell_type": "code",
   "execution_count": 4,
   "metadata": {},
   "outputs": [
    {
     "data": {
      "text/plain": [
       "'\\n\\n\\t\\t\\t\\tBed Head Masterpiece Shine Hairspray\\n'"
      ]
     },
     "execution_count": 4,
     "metadata": {},
     "output_type": "execute_result"
    }
   ],
   "source": [
    "# Ulta products on a page\n",
    "soup.find_all(\"p\", class_='prod-desc')[0].text"
   ]
  },
  {
   "cell_type": "code",
   "execution_count": 14,
   "metadata": {},
   "outputs": [],
   "source": [
    "# attrs={'data-bin' : True}\n",
    "# https://www.target.com/c/hair-products-care-beauty/-/N-5xu0f?lnk=HairProducts\n",
    "html_page = requests.get('https://www.target.com/c/hair-products-care-beauty/-/N-5xu0f?lnk=HairProducts') #Make a get request to retrieve the page\n",
    "soup = BeautifulSoup(html_page.content, 'html.parser') #Pass the page contents to beautiful soup for parsing\n"
   ]
  },
  {
   "cell_type": "code",
   "execution_count": 21,
   "metadata": {},
   "outputs": [
    {
     "name": "stdout",
     "output_type": "stream",
     "text": [
      "[<a aria-label=\"home\" class=\"Logo-u9pbds-0 kTKLUM Link-sc-1khjl8b-0 jvxzGg\" data-test=\"tgtLogoHomeTop\" href=\"/\" id=\"home\"><span class=\"nds-Icon\" data-icon-name=\"LogoBullseyeWhite\" style=\"fill:#ffffff\"><span class=\"nds-Icon_svgContainer\"><svg focusable=\"false\" height=\"24\" viewbox=\"0 0 24 24\" width=\"24\" xmlns=\"http://www.w3.org/2000/svg\"><path d=\"M12 1c6.074 0 10.999 4.925 10.999 11 0 6.074-4.925 10.999-11 10.999-6.074 0-10.999-4.925-10.999-11C1 5.925 5.925 1 12 1zm0 18.173a7.174 7.174 0 10-.001-14.347 7.174 7.174 0 000 14.347zm0-3.653a3.52 3.52 0 110-7.04 3.52 3.52 0 010 7.04z\" fill-rule=\"evenodd\"></path></svg></span></span></a>, <a aria-expanded=\"false\" aria-label=\"categories menu\" class=\"h-hidden-md-up h-margin-l-tiny HeaderMainLink-sc-1tx0dwp-0 hrhLcK Link-sc-1khjl8b-0 jvxzGg\" data-menu=\"categories\" href=\"#categoriesMenu\" id=\"categories\"><span>Menu</span><span class=\"h-padding-l-tiny ArrowSprite-w7d9ld-0 hiyEuV\"><svg fill=\"none\" focusable=\"false\" height=\"48\" preserveaspectratio=\"xMaxYMax\" viewbox=\"0 0 20 48\" width=\"20\" xmlns=\"http://www.w3.org/2000/svg\"><g fill=\"none\" fill-rule=\"evenodd\" stroke=\"#eaadad\" stroke-width=\"3.2\"><path d=\"M2 1.5l8 8 8-8m-16 44l8-8 8 8\"></path></g></svg></span></a>, <a aria-expanded=\"false\" aria-label=\"categories menu\" class=\"h-hidden-sm-down h-margin-l-tight HeaderMainLink-sc-1tx0dwp-0 hrhLcK Link-sc-1khjl8b-0 jvxzGg\" data-menu=\"categories\" href=\"#categoriesMenu\" id=\"categories\"><span>Categories</span><span class=\"h-padding-l-tiny ArrowSprite-w7d9ld-0 hiyEuV\"><svg fill=\"none\" focusable=\"false\" height=\"48\" preserveaspectratio=\"xMaxYMax\" viewbox=\"0 0 20 48\" width=\"20\" xmlns=\"http://www.w3.org/2000/svg\"><g fill=\"none\" fill-rule=\"evenodd\" stroke=\"#eaadad\" stroke-width=\"3.2\"><path d=\"M2 1.5l8 8 8-8m-16 44l8-8 8 8\"></path></g></svg></span></a>, <a aria-expanded=\"false\" aria-label=\"deals menu\" class=\"h-hidden-sm-down h-margin-l-wide HeaderMainLink-sc-1tx0dwp-0 hrhLcK Link-sc-1khjl8b-0 jvxzGg\" data-menu=\"secondary\" href=\"#secondaryMenu\" id=\"secondary\">Deals<span class=\"h-padding-l-tiny ArrowSprite-w7d9ld-0 hiyEuV\"><svg fill=\"none\" focusable=\"false\" height=\"48\" preserveaspectratio=\"xMaxYMax\" viewbox=\"0 0 20 48\" width=\"20\" xmlns=\"http://www.w3.org/2000/svg\"><g fill=\"none\" fill-rule=\"evenodd\" stroke=\"#eaadad\" stroke-width=\"3.2\"><path d=\"M2 1.5l8 8 8-8m-16 44l8-8 8 8\"></path></g></svg></span></a>, <a aria-expanded=\"false\" aria-label=\"trending menu\" class=\"h-hidden-md-down h-margin-l-wide HeaderMainLink-sc-1tx0dwp-0 hrhLcK Link-sc-1khjl8b-0 jvxzGg\" data-menu=\"trending\" href=\"#trendingMenu\" id=\"trending\">Trending<span class=\"h-padding-l-tiny ArrowSprite-w7d9ld-0 hiyEuV\"><svg fill=\"none\" focusable=\"false\" height=\"48\" preserveaspectratio=\"xMaxYMax\" viewbox=\"0 0 20 48\" width=\"20\" xmlns=\"http://www.w3.org/2000/svg\"><g fill=\"none\" fill-rule=\"evenodd\" stroke=\"#eaadad\" stroke-width=\"3.2\"><path d=\"M2 1.5l8 8 8-8m-16 44l8-8 8 8\"></path></g></svg></span></a>, <a aria-expanded=\"false\" aria-label=\"same day delivery\" class=\"h-hidden-md-down h-margin-l-wide HeaderMainLink-sc-1tx0dwp-0 hrhLcK Link-sc-1khjl8b-0 jvxzGg\" data-menu=\"sameDayDelivery\" href=\"#sameDayDeliveryMenu\" id=\"sameDayDelivery\">Same Day Delivery<span class=\"h-padding-l-tiny ArrowSprite-w7d9ld-0 hiyEuV\"><svg fill=\"none\" focusable=\"false\" height=\"48\" preserveaspectratio=\"xMaxYMax\" viewbox=\"0 0 20 48\" width=\"20\" xmlns=\"http://www.w3.org/2000/svg\"><g fill=\"none\" fill-rule=\"evenodd\" stroke=\"#eaadad\" stroke-width=\"3.2\"><path d=\"M2 1.5l8 8 8-8m-16 44l8-8 8 8\"></path></g></svg></span></a>, <a aria-expanded=\"false\" aria-label=\"account menu\" class=\"AccountLink-gx13jw-1 hewTDq Link-sc-1khjl8b-0 jvxzGg\" data-menu=\"account\" href=\"#accountMenu\" id=\"account\"><span class=\"AccountLink__SvgUserWrapper-gx13jw-0 hFdggM\"><span class=\"nds-Icon\" data-icon-name=\"ProfileUserCircle\" style=\"width:30px;height:30px;fill:#fff\"><span class=\"nds-Icon_svgContainer\"><svg focusable=\"false\" height=\"24\" viewbox=\"0 0 24 24\" width=\"24\" xmlns=\"http://www.w3.org/2000/svg\"><path d=\"M14.063 14.856c0 1.097.181 1.455.708 1.871.251.197 1.659.607 2.834.865 1.958.536 2.36 2 2.36 2A10.932 10.932 0 0112 23a10.935 10.935 0 01-7.966-3.408s.315-1.352 2.406-2c1.144-.354 2.435-.639 2.713-.838.538-.385.784-.767.784-1.913 0-.26-.217-.516-.49-1.037-.46-.878-1.159-2.101-1.159-3.601S8.558 5.58 12 5.552c3.442-.028 3.711 3.265 3.74 4.708.029 1.443-.688 2.669-1.132 3.51-.29.551-.545.82-.545 1.086zm7.77 2.267l-.648-.394a9.874 9.874 0 001.436-5.133c0-5.64-4.752-10.217-10.621-10.217-5.869 0-10.62 4.577-10.62 10.217 0 1.832.5 3.591 1.439 5.138l-.649.394a10.624 10.624 0 01-1.55-5.532C.62 5.53 5.719.62 12 .62c6.282 0 11.38 4.91 11.38 10.974a10.633 10.633 0 01-1.547 5.528z\"></path></svg></span></span></span><span class=\"h-padding-l-tiny ArrowSprite-w7d9ld-0 hiyEuV\"><svg fill=\"none\" focusable=\"false\" height=\"48\" preserveaspectratio=\"xMaxYMax\" viewbox=\"0 0 20 48\" width=\"20\" xmlns=\"http://www.w3.org/2000/svg\"><g fill=\"none\" fill-rule=\"evenodd\" stroke=\"#eaadad\" stroke-width=\"3.2\"><path d=\"M2 1.5l8 8 8-8m-16 44l8-8 8 8\"></path></g></svg></span><span class=\"h-sr-only\">my account</span></a>, <a aria-label=\"0 favorites\" class=\"Link-sc-1khjl8b-0 lifmEv\" data-test=\"crushHeader\" href=\"/yr/crush\"><span class=\"h-display-flex h-flex-align-center navitem--crush\"><span class=\"styles__SvgWrapper-sc-10pcup6-0 h-display-inline-block h-text-md bXCEhk\"><span class=\"nds-Icon\" data-icon-name=\"GeneralHeartOutline\" style=\"width:14px;height:14px;fill:#333333\"><span class=\"nds-Icon_svgContainer\"><svg focusable=\"false\" height=\"24\" viewbox=\"0 0 24 24\" width=\"24\" xmlns=\"http://www.w3.org/2000/svg\"><path d=\"M16.55 1C20.154 1 23 4.032 23 7.875c0 1.373-.341 2.693-1.014 4.028-1.213 2.405-2.806 4.153-7.923 9.109L11.998 23l-2.063-2.001c-5.092-4.92-6.697-6.679-7.912-9.08C1.344 10.58 1 9.255 1 7.876 1 4.032 3.845 1 7.45 1c1.671 0 3.306.683 4.55 1.85C13.244 1.684 14.879 1 16.55 1zm-3.683 18.966c4.933-4.903 6.476-6.641 7.55-8.827.54-1.099.801-2.14.801-3.211 0-2.867-2.047-5.107-4.669-5.107-1.469 0-2.92.746-3.871 1.968L12 5.66l-.678-.87C10.37 3.566 8.92 2.82 7.451 2.82c-2.622 0-4.67 2.24-4.67 5.107 0 1.075.265 2.121.81 3.225 1.076 2.183 2.63 3.93 7.541 8.802l.87.866.865-.855z\"></path></svg></span></span></span><span aria-hidden=\"true\">0</span></span></a>, <a aria-expanded=\"false\" aria-label=\"More menu\" class=\"utility-navMore-moreButton h-text-nowrap Link-sc-1khjl8b-0 lifmEv\" data-menu=\"more\" href=\"#\" id=\"more\"><span class=\"ArrowSprite-w7d9ld-0 beXfSx\" style=\"margin-right:5px\"><svg fill=\"none\" focusable=\"false\" height=\"48\" preserveaspectratio=\"xMaxYMax\" viewbox=\"0 0 20 48\" width=\"20\" xmlns=\"http://www.w3.org/2000/svg\"><g fill=\"none\" fill-rule=\"evenodd\" stroke=\"#888\" stroke-width=\"3.2\"><path d=\"M2 1.5l8 8 8-8m-16 44l8-8 8 8\"></path></g></svg></span>More</a>, <a aria-expanded=\"false\" aria-label=\"account menu\" class=\"HeaderSecondaryAccountLink-sc-11gzo98-1 ekaUWV Link-sc-1khjl8b-0 jvxzGg\" data-menu=\"account\" href=\"#accountMenuLink\" id=\"account\"><span class=\"h-sr-only\">Account information</span><span class=\"ArrowSprite-w7d9ld-0 brPXdd\"><svg fill=\"none\" focusable=\"false\" height=\"48\" preserveaspectratio=\"xMaxYMax\" viewbox=\"0 0 20 48\" width=\"20\" xmlns=\"http://www.w3.org/2000/svg\"><g fill=\"none\" fill-rule=\"evenodd\" stroke=\"#888\" stroke-width=\"3.2\"><path d=\"M2 1.5l8 8 8-8m-16 44l8-8 8 8\"></path></g></svg></span><span class=\"HeaderSecondaryAccountLink__SvgWrapper-sc-11gzo98-0 eBfZLv\"><span class=\"nds-Icon\" data-icon-name=\"ProfileUserCircle\" style=\"width:25px;height:25px;fill:#888\"><span class=\"nds-Icon_svgContainer\"><svg focusable=\"false\" height=\"24\" viewbox=\"0 0 24 24\" width=\"24\" xmlns=\"http://www.w3.org/2000/svg\"><path d=\"M14.063 14.856c0 1.097.181 1.455.708 1.871.251.197 1.659.607 2.834.865 1.958.536 2.36 2 2.36 2A10.932 10.932 0 0112 23a10.935 10.935 0 01-7.966-3.408s.315-1.352 2.406-2c1.144-.354 2.435-.639 2.713-.838.538-.385.784-.767.784-1.913 0-.26-.217-.516-.49-1.037-.46-.878-1.159-2.101-1.159-3.601S8.558 5.58 12 5.552c3.442-.028 3.711 3.265 3.74 4.708.029 1.443-.688 2.669-1.132 3.51-.29.551-.545.82-.545 1.086zm7.77 2.267l-.648-.394a9.874 9.874 0 001.436-5.133c0-5.64-4.752-10.217-10.621-10.217-5.869 0-10.62 4.577-10.62 10.217 0 1.832.5 3.591 1.439 5.138l-.649.394a10.624 10.624 0 01-1.55-5.532C.62 5.53 5.719.62 12 .62c6.282 0 11.38 4.91 11.38 10.974a10.633 10.633 0 01-1.547 5.528z\"></path></svg></span></span></span></a>, <a aria-label=\"Target\" class=\"Link-sc-1khjl8b-0 iSPUUR\" href=\"/\" itemprop=\"url\"><span aria-hidden=\"true\" itemprop=\"name\">Target</span></a>, <a aria-label=\"Beauty\" class=\"Link-sc-1khjl8b-0 iSPUUR\" href=\"/c/beauty/-/N-55r1x\" itemprop=\"url\"><span aria-hidden=\"true\" itemprop=\"name\">Beauty</span></a>, <a aria-label=\"Hair Care\" class=\"Link-sc-1khjl8b-0 iSPUUR\" href=\"/c/hair-care-beauty/-/N-5xu0k\" itemprop=\"url\"><span aria-hidden=\"true\" itemprop=\"name\">Hair Care</span></a>, <a aria-label=\"home\" class=\"h-display-inline-block Link-sc-1khjl8b-0 jvxzGg\" data-test=\"tgtLogoHomeBtm\" href=\"/\" id=\"footer-logo\"><svg height=\"100\" viewbox=\"0 0 257 135\" width=\"140\" xmlns=\"http://www.w3.org/2000/svg\"><path d=\"M0 111.8h12.9v3.2H3.8v3.7h8.4v2.9H3.8v4.3h9.3v3.2H0zM18.6 122.5l-4.1-5.9h3.9l2.2 3.2 2.2-3.2h3.8l-4.1 5.8 4.6 6.7h-3.9l-2.6-4-2.6 4h-3.9zM28.2 116.6h3.3v1.6c.8-1.3 2.2-2 3.7-1.9 3.8 0 5.7 3 5.7 6.7 0 3.4-1.9 6.5-5.5 6.5-1.5 0-2.9-.7-3.8-1.9v5.9h-3.4v-16.9zm9.2 6.3c0-1.9-.7-4-3-4-1.9 0-2.9 1.5-2.9 4 0 2.3.9 4 3 4s2.9-1.8 2.9-4M42 122.8c0-3.8 2.6-6.6 6.4-6.6 4 0 6.1 3.1 6.1 6.8v.7h-9c.1 2.2 1.1 3.2 3 3.2 1.3 0 2.5-.8 2.7-1.6h3c-.9 2.8-2.9 4.2-5.8 4.2-4-.1-6.4-2.8-6.4-6.7m9-1.3c-.3-1.9-1.2-2.6-2.8-2.6-1.5-.1-2.7 1-2.8 2.4v.2H51zM55.7 123c0-4 2.4-6.8 6.4-6.8 3.2 0 5.7 1.7 5.9 4.7h-3.4c-.1-1.3-1.2-2.2-2.4-2.2h-.1c-2.1 0-2.9 2-2.9 4.1s.8 4 2.9 4c1.5 0 2.5-.9 2.7-2.5h3.3c-.5 3.3-2.7 5.1-6 5.1-3.9 0-6.4-2.8-6.4-6.4M70.7 126.2v-7.3h-2.1v-2.3h2.1v-3.8h3.4v3.8h2.5v2.3h-2.5v6.2c0 1.2.3 1.4 1.5 1.4.4 0 .7 0 1.1-.1v2.7c-.7.1-1.3.1-2 .1-2.7 0-4-.8-4-3M85.4 111.8h5.3l4.1 11.9 3.9-11.9h5.3v17.3h-3.6v-12.3l-4.2 12.3h-3L89 117v12.1h-3.6zM105.7 122.8c0-4 2.5-6.6 6.5-6.6s6.5 2.6 6.5 6.6-2.6 6.6-6.5 6.6-6.5-2.6-6.5-6.6m9.5 0c0-2-.7-4-3.1-4-1.9 0-3 1.5-3 4s1.1 4 3 4c2 0 3.1-1.5 3.1-4M120 116.6h3.3v2.3c.7-1.6 2.2-2.6 4-2.6.3 0 .5 0 .8.1v3.2c-.4-.1-.8-.1-1.2-.1-2.5 0-3.4 1.7-3.4 4v5.6H120v-12.5zM128.3 122.8c0-3.8 2.6-6.6 6.4-6.6 4 0 6.1 3.1 6.1 6.8v.7h-9c.1 2.2 1.1 3.2 3 3.2 1.3 0 2.5-.8 2.7-1.6h3c-.9 2.8-2.9 4.2-5.8 4.2-3.9-.1-6.3-2.8-6.4-6.7m9.1-1.3c-.3-1.9-1.2-2.6-2.8-2.6-1.5-.1-2.7 1-2.8 2.4v.2h5.6zM141.9 127.2c-.1-1.1.8-2.1 1.9-2.2 1.1-.1 2.1.8 2.2 1.9v.2c0 1.1-.9 2-2 2-1.2.2-2.1-.7-2.1-1.9M154.7 111.8h7.8c4 0 5.9 2.5 5.9 5.5s-2 5.5-5.9 5.5h-4v6.2h-3.8v-17.2zm6.8 8.1c2.2 0 3.3-.7 3.3-2.6 0-1.8-1-2.6-3.2-2.6h-3v5.2h2.9zM168.9 125.7c-.1-1 .3-2 1.1-2.6.8-.7 2-1 4-1.3 2.2-.2 3.2-.4 3.2-1.5 0-1.4-1-1.7-2.2-1.7-1.4 0-2.2.6-2.3 1.9h-3.4c.1-2.7 2.4-4.2 5.9-4.2 3.7 0 5.5 1.2 5.5 3.6v6c0 .8.1 1 .9 1h.1v2.2c-.4.2-.9.3-1.4.3-1.6 0-2.4-.5-2.7-1.6-.8 1-2.3 1.7-4.4 1.7-2.6-.1-4.3-1.4-4.3-3.8m8.3-1.4V123c-.3.3-.9.5-2.1.6-1.8.2-2.8.6-2.8 2 0 1 .6 1.6 2.1 1.6 1.8-.1 2.8-1.1 2.8-2.9M182.6 133.3v-2.8c.6.1 1.2.1 1.8.1.8 0 1.5-.6 1.5-1.4v-.2c0-.3 0-.5-.1-.8l-4.4-11.7h3.7l2.8 8.6 2.7-8.6h3.6l-5.2 14.1c-.7 2-1.9 2.8-4.3 2.8-.7.1-1.4 0-2.1-.1M201.5 111.8h3.8v14.1h8.4v3.2h-12.2zM214.5 122.8c0-3.8 2.6-6.6 6.4-6.6 4 0 6.1 3.1 6.1 6.8v.7h-9c.1 2.2 1.1 3.2 3 3.2 1.3 0 2.5-.8 2.7-1.6h3c-.9 2.8-2.9 4.2-5.8 4.2-4-.1-6.4-2.8-6.4-6.7m9-1.3c-.3-1.9-1.2-2.6-2.8-2.6-1.5-.1-2.7 1-2.8 2.4v.2h5.6zM227.7 125h3.3c0 1.4 1.2 2.1 2.6 2.1 1.2 0 2.3-.5 2.3-1.6 0-.9-1.1-1.4-3.8-1.9-2.9-.6-4.1-1.6-4.1-3.4 0-2.6 1.9-4 5.4-4 3.4 0 5.3 1.4 5.5 4h-3.3c-.1-1.2-.9-1.7-2.3-1.7-1.3 0-1.9.4-1.9 1.2 0 .8.7 1.2 2.7 1.6 2.5.5 3.5.9 4.2 1.5.6.6 1 1.4 1 2.3 0 3.2-2.8 4.3-5.7 4.3-3.4 0-5.8-1.4-5.9-4.4M240.1 125h3.3c0 1.4 1.2 2.1 2.6 2.1 1.2 0 2.2-.5 2.2-1.6 0-.9-1.1-1.4-3.8-1.9-2.9-.6-4.1-1.6-4.1-3.4 0-2.6 1.9-4 5.4-4 3.4 0 5.3 1.4 5.5 4h-3.3c-.1-1.2-.9-1.7-2.3-1.7s-1.9.4-1.9 1.2c0 .8.8 1.2 2.7 1.6 2.5.5 3.5.9 4.2 1.5.6.6 1 1.4 1 2.3 0 3.2-2.8 4.3-5.7 4.3-3.3 0-5.7-1.4-5.8-4.4M252.7 127.2c-.1-1.1.8-2.1 1.9-2.2 1.1-.1 2.1.8 2.2 1.9v.2c0 1.1-.9 2-2 2-1.1.2-2-.7-2.1-1.9\"></path><g fill=\"#C00\"><path d=\"M96.3 32.5C96.3 14.7 110.7.3 128.5.3s32.2 14.4 32.2 32.2c0 17.8-14.4 32.2-32.2 32.2-17.8.1-32.2-14.4-32.2-32.2zM128.5 54c11.9 0 21.5-9.6 21.5-21.5S140.4 11 128.5 11 107 20.6 107 32.5 116.6 54 128.5 54zm10.7-21.5c0 5.9-4.8 10.7-10.7 10.7-5.9 0-10.7-4.8-10.7-10.7 0-5.9 4.8-10.7 10.7-10.7 5.9 0 10.7 4.8 10.7 10.7z\"></path><path d=\"M101.8 68.9v3.8h2.5V75h-2.5v6.3c0 1.2.3 1.5 1.5 1.5.4 0 .7 0 1.1-.1v2.7c-.7.1-1.4.1-2.1.1-2.6 0-4-.8-4-3.1V75h-2.1v-2.3h2.1v-3.8h3.5zM116.9 82.1c0 .8.1 1 .9 1h.1v2.3c-.4.2-.9.3-1.4.3-1.6 0-2.4-.5-2.7-1.6-.8 1-2.3 1.7-4.4 1.7-2.6 0-4.3-1.3-4.3-3.8-.1-1 .3-2 1.1-2.7.8-.7 2-1 4.1-1.3 2.3-.3 3.2-.4 3.2-1.6 0-1.4-1-1.7-2.2-1.7-1.4 0-2.2.6-2.3 1.9h-3.5c.1-2.8 2.4-4.2 5.9-4.2 3.7 0 5.5 1.2 5.5 3.6v6.1zm-6.3 1.3c1.9 0 2.8-1 2.8-2.9v-1.3c-.3.3-.9.5-2.1.6-1.8.2-2.8.6-2.8 2 0 1 .6 1.6 2.1 1.6zM126.9 72.5v3.2c-.4-.1-.8-.1-1.2-.1-2.5 0-3.4 1.7-3.4 4.1v5.7h-3.5V72.7h3.3V75c.7-1.6 2.3-2.7 4-2.7.3.1.5.1.8.2zM136.1 74.4v-1.7h3.3v11.9c0 3.3-1.9 5.6-6.5 5.6-2.9 0-5.4-1.5-5.6-4.1h3.5c.3 1.2 1.2 1.7 2.6 1.7 1.8 0 2.8-1.1 2.8-3.1V83c-.8 1.3-2.3 2.1-3.8 2-3.6 0-5.4-2.6-5.4-6.4 0-3.2 1.9-6.3 5.4-6.3 1.4 0 2.9.8 3.7 2.1zm-3 8c1.9 0 3-1.5 3-3.5 0-1.8-.5-3.9-3-3.9-1.8 0-2.8 1.5-2.8 3.6s.8 3.8 2.8 3.8zM153 79.3v.7h-9.1c.1 2.2 1.1 3.2 3.1 3.2 1.3 0 2.5-.8 2.8-1.6h3.1c-.9 2.9-2.9 4.3-5.9 4.3-4 0-6.5-2.8-6.5-6.6 0-3.9 2.6-6.7 6.5-6.7 3.8-.2 6 2.9 6 6.7zm-3.5-1.6c-.3-1.9-1.2-2.7-2.8-2.7-1.5-.1-2.8 1-2.9 2.5v.2h5.7zM158.2 68.9v3.8h2.5V75h-2.5v6.3c0 1.2.3 1.5 1.5 1.5.4 0 .7 0 1.1-.1v2.7c-.7.1-1.4.1-2.1.1-2.6 0-4-.8-4-3.1V75h-2.1v-2.3h2.1v-3.8h3.5z\"></path></g></svg></a>]\n"
     ]
    }
   ],
   "source": [
    "prods_list = soup.find_all('a', attrs={'aria-label': True})\n",
    "print(prods_list)\n",
    "for p in prods_list:\n",
    "    if p.get(\"data-test\") == 'product-title':\n",
    "        print(\"Something\")"
   ]
  },
  {
   "cell_type": "code",
   "execution_count": null,
   "metadata": {},
   "outputs": [],
   "source": [
    "<a href=\"/p/the-good-stuff-color-protect-milk-no-rinse-conditioner-6-7-fl-oz/-/A-75561078\" class=\"Link-sc-1khjl8b-0 h-display-block h-text-bold h-text-bs flex-grow-one styles__StyledTitleLink-e5kry1-5 lioQal\" aria-label=\"The Good Stuff Color Protect Milk No-rinse Conditioner - 6.7 fl oz\" data-test=\"product-title\">The Good Stuff Color Protect Milk No-rinse Conditioner - 6.7 fl oz</a>"
   ]
  }
 ],
 "metadata": {
  "kernelspec": {
   "display_name": "Python 3",
   "language": "python",
   "name": "python3"
  },
  "language_info": {
   "codemirror_mode": {
    "name": "ipython",
    "version": 3
   },
   "file_extension": ".py",
   "mimetype": "text/x-python",
   "name": "python",
   "nbconvert_exporter": "python",
   "pygments_lexer": "ipython3",
   "version": "3.7.3"
  }
 },
 "nbformat": 4,
 "nbformat_minor": 2
}
