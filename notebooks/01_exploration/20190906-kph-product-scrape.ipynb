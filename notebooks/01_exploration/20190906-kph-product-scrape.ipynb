{
 "cells": [
  {
   "cell_type": "code",
   "execution_count": 1,
   "metadata": {},
   "outputs": [],
   "source": [
    "from bs4 import BeautifulSoup\n",
    "import requests\n",
    "import pymongo\n",
    "import time\n",
    "import random\n",
    "from selenium import webdriver\n",
    "from selenium.webdriver.common.by import By\n",
    "from selenium.webdriver.support.ui import WebDriverWait\n",
    "from selenium.webdriver.support import expected_conditions as EC\n",
    "import pdb"
   ]
  },
  {
   "cell_type": "markdown",
   "metadata": {},
   "source": [
    "## Target\n",
    "Get product names from target"
   ]
  },
  {
   "cell_type": "code",
   "execution_count": 2,
   "metadata": {},
   "outputs": [],
   "source": [
    "driver = webdriver.Firefox(executable_path='/Applications/Firefox.app/Contents/MacOS/geckodriver')\n",
    "url ='https://www.target.com/c/hair-products-care-beauty/-/N-5xu0f?lnk=HairProducts'\n",
    "driver.get(url)"
   ]
  },
  {
   "cell_type": "code",
   "execution_count": null,
   "metadata": {},
   "outputs": [],
   "source": [
    "\n",
    "driver.get(url) #goes to URL\n",
    "\n",
    "web_pages = 30\n",
    "counter = 0\n",
    "target_prod_names = []\n",
    "while counter < web_pages:\n",
    "    time.sleep(10)\n",
    "    for i in range(4,31):\n",
    "        #if i < 3:\n",
    "        print(i)\n",
    "        print(driver)\n",
    "        WebDriverWait(driver,30).until(EC.visibility_of_element_located((By.XPATH, f'/html/body/div[1]/div/div[4]/div[4]/div/div/div[1]/div[3]/div[2]/ul/li[{i+1}]/div/div[2]/div/div/div/div[1]/div[1]/a')))\n",
    "        name_to_save = driver.find_element_by_xpath(f'/html/body/div[1]/div/div[4]/div[4]/div/div/div[1]/div[3]/div[2]/ul/li[{i+1}]/div/div[2]/div/div/div/div[1]/div[1]/a')\n",
    "        target_prod_names.append(name_to_save.text)\n",
    "        time.sleep(40)\n",
    "        #else:    \n",
    "\n",
    "    driver.find_element_by_xpath('/html/body/div[1]/div/div[4]/div[4]/div/div/div[1]/div[3]/div[2]/div[2]/div/div/div[3]/a').click()\n",
    "    counter += 1\n",
    "    #The above moves the page forward by one"
   ]
  },
  {
   "cell_type": "markdown",
   "metadata": {},
   "source": [
    "***"
   ]
  },
  {
   "cell_type": "code",
   "execution_count": null,
   "metadata": {},
   "outputs": [],
   "source": [
    "\n",
    "driver.get(url) #goes to URL\n",
    "\n",
    "web_pages = 30\n",
    "counter = 0\n",
    "target_stylers = []\n",
    "while counter < web_pages:\n",
    "    time.sleep(30)\n",
    "    for i in range(31):\n",
    "        if i < 3:\n",
    "            try:\n",
    "                name_to_save = driver.find_element_by_xpath(f'/html/body/div[1]/div/div[4]/div[4]/div/div/div[1]/div[3]/div[2]/ul/li[{i+1}]/div/div[2]/div/div/div/div[1]/div[1]/a')\n",
    "                target_stylers.append(name_to_save.text)\n",
    "            except:    \n",
    "                time.sleep(30)\n",
    "                name_to_save = driver.find_element_by_xpath(f'/html/body/div[1]/div/div[4]/div[4]/div/div/div[1]/div[3]/div[2]/ul/li[{i+1}]/div/div[2]/div/div/div/div[1]/div[1]/a')\n",
    "                target_stylers.append(name_to_save.text)\n",
    "        else:\n",
    "            try:\n",
    "                name_to_save = driver.find_element_by_xpath(f'/html/body/div[1]/div/div[4]/div[4]/div/div/div[1]/div[3]/div[2]/ul/li[{i+1}]/div/div/div[2]/div/div/div/div[1]/div[1]/a')\n",
    "                target_stylers.append(name_to_save.text)\n",
    "            except:\n",
    "                time.sleep(30)\n",
    "                name_to_save = driver.find_element_by_xpath(f'/html/body/div[1]/div/div[4]/div[4]/div/div/div[1]/div[3]/div[2]/ul/li[{i+1}]/div/div/div[2]/div/div/div/div[1]/div[1]/a')\n",
    "                target_stylers.append(name_to_save.text)\n",
    "\n",
    "    driver.find_element_by_xpath('/html/body/div[1]/div/div[4]/div[4]/div/div/div[1]/div[3]/div[2]/div[2]/div/div/div[3]/a').click()\n",
    "    counter += 1\n",
    "    \n",
    "    #The above moves the page forward by one"
   ]
  },
  {
   "cell_type": "code",
   "execution_count": null,
   "metadata": {
    "scrolled": true
   },
   "outputs": [],
   "source": [
    "target_prod_names"
   ]
  },
  {
   "cell_type": "code",
   "execution_count": null,
   "metadata": {},
   "outputs": [],
   "source": [
    "target_stylers"
   ]
  },
  {
   "cell_type": "code",
   "execution_count": null,
   "metadata": {},
   "outputs": [],
   "source": [
    "driver.find_element_by_xpath('/html/body/div[1]/div/div[4]/div[4]/div/div/div[1]/div[3]/div[2]/ul/li[4]/div/div/div[2]/div/div/div/div[1]/div[1]/a').text\n",
    "                             "
   ]
  },
  {
   "cell_type": "code",
   "execution_count": 3,
   "metadata": {},
   "outputs": [],
   "source": [
    "xcode_list = []\n",
    "for i in range(31):\n",
    "    if i < 3:\n",
    "        xcode_list.append(f'/html/body/div[1]/div/div[4]/div[4]/div/div/div[1]/div[3]/div[2]/ul/li[{i+1}]/div/div[2]/div/div/div/div[1]/div[1]/a')\n",
    "    else:     \n",
    "        xcode_list.append(f'/html/body/div[1]/div/div[4]/div[4]/div/div/div[1]/div[3]/div[2]/ul/li[{i+1}]/div/div/div[2]/div/div/div/div[1]/div[1]/a')\n",
    "\n",
    "#xcode_list       "
   ]
  },
  {
   "cell_type": "markdown",
   "metadata": {},
   "source": [
    "### Product names"
   ]
  },
  {
   "cell_type": "code",
   "execution_count": 4,
   "metadata": {},
   "outputs": [
    {
     "name": "stdout",
     "output_type": "stream",
     "text": [
      "The Good Stuff Color Protect Milk No-rinse Conditioner - 6.7 fl oz\n",
      "TRESemme Tres Two Extra Firm Control Hairspray - 11oz\n",
      "TRESemme Thermal Creations Heat Tamer Leave In Spray - 8oz\n",
      "Batiste Clean & Classic Original Dry Shampoo - 6.73 fl oz\n",
      "Garnier Fructis Sleek & Shine Intensely Smooth Leave-In Conditioning Cream - 10.2 fl oz\n",
      "Batiste Hint of Color Divine Dark Dry Shampoo - 6.73 fl oz\n",
      "failed item\n",
      "Dove Beauty Refresh + Care Volume & Fullness Dry Shampoo - 5oz\n",
      "Batiste Hint of Color Divine Dark Dry Shampoo - 6.73 fl oz\n",
      "Aussie Miracle Moist Intense Hydrating Oil - 3.2 fl oz\n",
      "Batiste Clean & Light Bare Dry Shampoo - 6.73 fl oz\n",
      "Batiste Coconut & Exotic Tropical Dry Shampoo - 6.73 fl oz\n",
      "Love Beauty & Planet Coconut Milk and White Jasmine Medium Hold and Volume Hair Spray - 6.8oz\n",
      "TRESemme Flawless Curls Enhancing Mousse - 10.5oz\n",
      "TRESemme Thermal Creations Heat Tamer Leave In Spray - 8oz\n",
      "Not Your Mothers Clean Freak Refreshing Dry Shampoo - 7oz\n",
      "failed item\n",
      "TRESemmé Extra Hold Mousse 10.5 oz\n",
      "Aussie Instant Freeze Hairspray with Jojoba Oil & Sea Kelp - 10oz\n",
      "Not Your Mother's Plump For Joy Body Building Dry Shampoo - 7oz\n",
      "failed item\n",
      "failed item\n",
      "failed item\n",
      "failed item\n",
      "TRESemme Tres Extra Hold Hair Gel - 9oz\n",
      "Got2b Glued Styling Spiking Hair Glue - 6oz\n",
      "failed item\n",
      "failed item\n",
      "failed item\n",
      "failed item\n",
      "failed item\n",
      "Aussie Mega Hold Hairspray - 14.0oz\n",
      "Göt2b Ultra Glued Invincible Styling Gel - 6oz\n",
      "TRESemme Keratin Smooth Flat Iron Smoothing Spray - 8 fl oz\n",
      "Herbal Essences Totally Twisted Curl Boosting Mousse - 2ct - 6.8oz\n",
      "Eco Style Professional Styling Gel Olive - 16 fl oz\n",
      "TRESemme Keratin Smooth Shine Serum - 3.3 fl oz\n",
      "failed item\n",
      "failed item\n",
      "failed item\n",
      "failed item\n",
      "failed item\n",
      "failed item\n",
      "failed item\n",
      "failed item\n",
      "failed item\n",
      "failed item\n",
      "failed item\n",
      "failed item\n",
      "failed item\n",
      "failed item\n",
      "failed item\n",
      "failed item\n",
      "failed item\n",
      "failed item\n",
      "failed item\n",
      "failed item\n",
      "failed item\n",
      "failed item\n",
      "failed item\n",
      "failed item\n",
      "failed item\n",
      "Batiste Hint of Color Beautiful Brunette Dry Shampoo - 6.73 fl oz\n",
      "Kinky-Curly Knot Today Leave In/ Detangler - 8oz\n",
      "Love Beauty & Planet Coconut Milk and White Jasmine Beachy Texture Salt Spritz Hair Spray - 6.7oz\n",
      "Aussie Kids Bloomin' Apple Detangler - 8 fl oz\n",
      "Eco Style Professional Styling Gel with Argan Oil - 16 fl oz\n",
      "TRESemme Flawless Curls Enhancing Mousse - 10.5oz\n",
      "failed item\n",
      "failed item\n",
      "failed item\n",
      "failed item\n",
      "failed item\n",
      "failed item\n",
      "failed item\n",
      "failed item\n",
      "failed item\n",
      "failed item\n",
      "failed item\n",
      "failed item\n",
      "failed item\n",
      "failed item\n",
      "failed item\n",
      "failed item\n",
      "failed item\n",
      "failed item\n",
      "failed item\n",
      "failed item\n",
      "failed item\n",
      "failed item\n",
      "failed item\n",
      "failed item\n",
      "failed item\n",
      "failed item\n",
      "failed item\n",
      "failed item\n",
      "failed item\n",
      "failed item\n",
      "failed item\n",
      "failed item\n",
      "failed item\n",
      "failed item\n",
      "failed item\n",
      "failed item\n",
      "failed item\n",
      "failed item\n",
      "failed item\n",
      "failed item\n",
      "failed item\n",
      "failed item\n",
      "failed item\n",
      "failed item\n",
      "failed item\n",
      "failed item\n",
      "failed item\n",
      "failed item\n",
      "failed item\n",
      "failed item\n",
      "failed item\n",
      "failed item\n",
      "failed item\n",
      "failed item\n",
      "failed item\n",
      "failed item\n"
     ]
    },
    {
     "ename": "NoSuchElementException",
     "evalue": "Message: Unable to locate element: /html/body/div[1]/div/div[4]/div[4]/div/div/div[1]/div[3]/div[2]/div[2]/div/div/div[3]/a\n",
     "output_type": "error",
     "traceback": [
      "\u001b[0;31m---------------------------------------------------------------------------\u001b[0m",
      "\u001b[0;31mNoSuchElementException\u001b[0m                    Traceback (most recent call last)",
      "\u001b[0;32m<ipython-input-4-982682830ca9>\u001b[0m in \u001b[0;36m<module>\u001b[0;34m\u001b[0m\n\u001b[1;32m     18\u001b[0m         \u001b[0;31m#time.sleep(30)\u001b[0m\u001b[0;34m\u001b[0m\u001b[0;34m\u001b[0m\u001b[0;34m\u001b[0m\u001b[0m\n\u001b[1;32m     19\u001b[0m \u001b[0;34m\u001b[0m\u001b[0m\n\u001b[0;32m---> 20\u001b[0;31m     \u001b[0mdriver\u001b[0m\u001b[0;34m.\u001b[0m\u001b[0mfind_element_by_xpath\u001b[0m\u001b[0;34m(\u001b[0m\u001b[0;34m'/html/body/div[1]/div/div[4]/div[4]/div/div/div[1]/div[3]/div[2]/div[2]/div/div/div[3]/a'\u001b[0m\u001b[0;34m)\u001b[0m\u001b[0;34m.\u001b[0m\u001b[0mclick\u001b[0m\u001b[0;34m(\u001b[0m\u001b[0;34m)\u001b[0m\u001b[0;34m\u001b[0m\u001b[0;34m\u001b[0m\u001b[0m\n\u001b[0m\u001b[1;32m     21\u001b[0m     \u001b[0mcounter\u001b[0m \u001b[0;34m+=\u001b[0m \u001b[0;36m1\u001b[0m\u001b[0;34m\u001b[0m\u001b[0;34m\u001b[0m\u001b[0m\n\u001b[1;32m     22\u001b[0m     \u001b[0;31m#The above moves the page forward by one\u001b[0m\u001b[0;34m\u001b[0m\u001b[0;34m\u001b[0m\u001b[0;34m\u001b[0m\u001b[0m\n",
      "\u001b[0;32m~/anaconda3/lib/python3.7/site-packages/selenium/webdriver/remote/webdriver.py\u001b[0m in \u001b[0;36mfind_element_by_xpath\u001b[0;34m(self, xpath)\u001b[0m\n\u001b[1;32m    392\u001b[0m             \u001b[0melement\u001b[0m \u001b[0;34m=\u001b[0m \u001b[0mdriver\u001b[0m\u001b[0;34m.\u001b[0m\u001b[0mfind_element_by_xpath\u001b[0m\u001b[0;34m(\u001b[0m\u001b[0;34m'//div/td[1]'\u001b[0m\u001b[0;34m)\u001b[0m\u001b[0;34m\u001b[0m\u001b[0;34m\u001b[0m\u001b[0m\n\u001b[1;32m    393\u001b[0m         \"\"\"\n\u001b[0;32m--> 394\u001b[0;31m         \u001b[0;32mreturn\u001b[0m \u001b[0mself\u001b[0m\u001b[0;34m.\u001b[0m\u001b[0mfind_element\u001b[0m\u001b[0;34m(\u001b[0m\u001b[0mby\u001b[0m\u001b[0;34m=\u001b[0m\u001b[0mBy\u001b[0m\u001b[0;34m.\u001b[0m\u001b[0mXPATH\u001b[0m\u001b[0;34m,\u001b[0m \u001b[0mvalue\u001b[0m\u001b[0;34m=\u001b[0m\u001b[0mxpath\u001b[0m\u001b[0;34m)\u001b[0m\u001b[0;34m\u001b[0m\u001b[0;34m\u001b[0m\u001b[0m\n\u001b[0m\u001b[1;32m    395\u001b[0m \u001b[0;34m\u001b[0m\u001b[0m\n\u001b[1;32m    396\u001b[0m     \u001b[0;32mdef\u001b[0m \u001b[0mfind_elements_by_xpath\u001b[0m\u001b[0;34m(\u001b[0m\u001b[0mself\u001b[0m\u001b[0;34m,\u001b[0m \u001b[0mxpath\u001b[0m\u001b[0;34m)\u001b[0m\u001b[0;34m:\u001b[0m\u001b[0;34m\u001b[0m\u001b[0;34m\u001b[0m\u001b[0m\n",
      "\u001b[0;32m~/anaconda3/lib/python3.7/site-packages/selenium/webdriver/remote/webdriver.py\u001b[0m in \u001b[0;36mfind_element\u001b[0;34m(self, by, value)\u001b[0m\n\u001b[1;32m    976\u001b[0m         return self.execute(Command.FIND_ELEMENT, {\n\u001b[1;32m    977\u001b[0m             \u001b[0;34m'using'\u001b[0m\u001b[0;34m:\u001b[0m \u001b[0mby\u001b[0m\u001b[0;34m,\u001b[0m\u001b[0;34m\u001b[0m\u001b[0;34m\u001b[0m\u001b[0m\n\u001b[0;32m--> 978\u001b[0;31m             'value': value})['value']\n\u001b[0m\u001b[1;32m    979\u001b[0m \u001b[0;34m\u001b[0m\u001b[0m\n\u001b[1;32m    980\u001b[0m     \u001b[0;32mdef\u001b[0m \u001b[0mfind_elements\u001b[0m\u001b[0;34m(\u001b[0m\u001b[0mself\u001b[0m\u001b[0;34m,\u001b[0m \u001b[0mby\u001b[0m\u001b[0;34m=\u001b[0m\u001b[0mBy\u001b[0m\u001b[0;34m.\u001b[0m\u001b[0mID\u001b[0m\u001b[0;34m,\u001b[0m \u001b[0mvalue\u001b[0m\u001b[0;34m=\u001b[0m\u001b[0;32mNone\u001b[0m\u001b[0;34m)\u001b[0m\u001b[0;34m:\u001b[0m\u001b[0;34m\u001b[0m\u001b[0;34m\u001b[0m\u001b[0m\n",
      "\u001b[0;32m~/anaconda3/lib/python3.7/site-packages/selenium/webdriver/remote/webdriver.py\u001b[0m in \u001b[0;36mexecute\u001b[0;34m(self, driver_command, params)\u001b[0m\n\u001b[1;32m    319\u001b[0m         \u001b[0mresponse\u001b[0m \u001b[0;34m=\u001b[0m \u001b[0mself\u001b[0m\u001b[0;34m.\u001b[0m\u001b[0mcommand_executor\u001b[0m\u001b[0;34m.\u001b[0m\u001b[0mexecute\u001b[0m\u001b[0;34m(\u001b[0m\u001b[0mdriver_command\u001b[0m\u001b[0;34m,\u001b[0m \u001b[0mparams\u001b[0m\u001b[0;34m)\u001b[0m\u001b[0;34m\u001b[0m\u001b[0;34m\u001b[0m\u001b[0m\n\u001b[1;32m    320\u001b[0m         \u001b[0;32mif\u001b[0m \u001b[0mresponse\u001b[0m\u001b[0;34m:\u001b[0m\u001b[0;34m\u001b[0m\u001b[0;34m\u001b[0m\u001b[0m\n\u001b[0;32m--> 321\u001b[0;31m             \u001b[0mself\u001b[0m\u001b[0;34m.\u001b[0m\u001b[0merror_handler\u001b[0m\u001b[0;34m.\u001b[0m\u001b[0mcheck_response\u001b[0m\u001b[0;34m(\u001b[0m\u001b[0mresponse\u001b[0m\u001b[0;34m)\u001b[0m\u001b[0;34m\u001b[0m\u001b[0;34m\u001b[0m\u001b[0m\n\u001b[0m\u001b[1;32m    322\u001b[0m             response['value'] = self._unwrap_value(\n\u001b[1;32m    323\u001b[0m                 response.get('value', None))\n",
      "\u001b[0;32m~/anaconda3/lib/python3.7/site-packages/selenium/webdriver/remote/errorhandler.py\u001b[0m in \u001b[0;36mcheck_response\u001b[0;34m(self, response)\u001b[0m\n\u001b[1;32m    240\u001b[0m                 \u001b[0malert_text\u001b[0m \u001b[0;34m=\u001b[0m \u001b[0mvalue\u001b[0m\u001b[0;34m[\u001b[0m\u001b[0;34m'alert'\u001b[0m\u001b[0;34m]\u001b[0m\u001b[0;34m.\u001b[0m\u001b[0mget\u001b[0m\u001b[0;34m(\u001b[0m\u001b[0;34m'text'\u001b[0m\u001b[0;34m)\u001b[0m\u001b[0;34m\u001b[0m\u001b[0;34m\u001b[0m\u001b[0m\n\u001b[1;32m    241\u001b[0m             \u001b[0;32mraise\u001b[0m \u001b[0mexception_class\u001b[0m\u001b[0;34m(\u001b[0m\u001b[0mmessage\u001b[0m\u001b[0;34m,\u001b[0m \u001b[0mscreen\u001b[0m\u001b[0;34m,\u001b[0m \u001b[0mstacktrace\u001b[0m\u001b[0;34m,\u001b[0m \u001b[0malert_text\u001b[0m\u001b[0;34m)\u001b[0m\u001b[0;34m\u001b[0m\u001b[0;34m\u001b[0m\u001b[0m\n\u001b[0;32m--> 242\u001b[0;31m         \u001b[0;32mraise\u001b[0m \u001b[0mexception_class\u001b[0m\u001b[0;34m(\u001b[0m\u001b[0mmessage\u001b[0m\u001b[0;34m,\u001b[0m \u001b[0mscreen\u001b[0m\u001b[0;34m,\u001b[0m \u001b[0mstacktrace\u001b[0m\u001b[0;34m)\u001b[0m\u001b[0;34m\u001b[0m\u001b[0;34m\u001b[0m\u001b[0m\n\u001b[0m\u001b[1;32m    243\u001b[0m \u001b[0;34m\u001b[0m\u001b[0m\n\u001b[1;32m    244\u001b[0m     \u001b[0;32mdef\u001b[0m \u001b[0m_value_or_default\u001b[0m\u001b[0;34m(\u001b[0m\u001b[0mself\u001b[0m\u001b[0;34m,\u001b[0m \u001b[0mobj\u001b[0m\u001b[0;34m,\u001b[0m \u001b[0mkey\u001b[0m\u001b[0;34m,\u001b[0m \u001b[0mdefault\u001b[0m\u001b[0;34m)\u001b[0m\u001b[0;34m:\u001b[0m\u001b[0;34m\u001b[0m\u001b[0;34m\u001b[0m\u001b[0m\n",
      "\u001b[0;31mNoSuchElementException\u001b[0m: Message: Unable to locate element: /html/body/div[1]/div/div[4]/div[4]/div/div/div[1]/div[3]/div[2]/div[2]/div/div/div[3]/a\n"
     ]
    }
   ],
   "source": [
    "driver.get(url) #goes to URL\n",
    "#driver.execute_script(\"window.scrollTo(0, document.body.scrollHeight);\")\n",
    "web_pages = 30\n",
    "counter = 0\n",
    "target_prod_names = []\n",
    "while counter < web_pages:\n",
    "    time.sleep(10)\n",
    "    #driver.execute_script(\"window.scrollTo(0, document.body.scrollHeight);\")\n",
    "    for path in xcode_list:\n",
    "        try:\n",
    "            WebDriverWait(driver,120).until(EC.visibility_of_element_located((By.XPATH, path)))\n",
    "            name_to_save = driver.find_element_by_xpath(path)\n",
    "            target_prod_names.append(name_to_save.text)\n",
    "            print(name_to_save.text)\n",
    "        except:\n",
    "            print(f'failed item')\n",
    "            continue\n",
    "        #time.sleep(30)    \n",
    "\n",
    "    driver.find_element_by_xpath('/html/body/div[1]/div/div[4]/div[4]/div/div/div[1]/div[3]/div[2]/div[2]/div/div/div[3]/a').click()\n",
    "    counter += 1\n",
    "    #The above moves the page forward by one"
   ]
  },
  {
   "cell_type": "markdown",
   "metadata": {},
   "source": [
    "## Natual Hair Care Section"
   ]
  },
  {
   "cell_type": "code",
   "execution_count": null,
   "metadata": {},
   "outputs": [],
   "source": [
    "driver = webdriver.Firefox(executable_path='/Applications/Firefox.app/Contents/MacOS/geckodriver')\n",
    "url ='https://www.target.com/c/natural-hair-care/-/N-4smdr?lnk=NaturalHairCare'\n"
   ]
  },
  {
   "cell_type": "code",
   "execution_count": null,
   "metadata": {},
   "outputs": [],
   "source": [
    "driver.get(url) #goes to URL\n",
    "#driver.execute_script(\"window.scrolhttp://localhost:8888/notebooks/Coding/products-for-curlies/notebooks/01_exploration/20190906-kph-product-scrape.ipynb#lTo(0, document.body.scrollHeight);\")\n",
    "web_pages = 16\n",
    "counter = 0\n",
    "target_natural_care = []\n",
    "while counter < web_pages:\n",
    "    time.sleep(10)\n",
    "    #driver.execute_script(\"window.scrollTo(0, document.body.scrollHeight);\")\n",
    "    for path in xcode_list:\n",
    "        try:\n",
    "            WebDriverWait(driver,30).until(EC.visibility_of_element_located((By.XPATH, path)))\n",
    "            name_to_save = driver.find_element_by_xpath(path)\n",
    "            target_prod_names.append(name_to_save.text)\n",
    "            print(name_to_save.text)\n",
    "        except:\n",
    "            continue\n",
    "        #time.sleep(30)    \n",
    "\n",
    "    driver.find_element_by_xpath('///*[@id=\"mainContainer\"]/div[6]/div/div/div[1]/div[3]/div[2]/div[2]/div/div/div[3]/a').click()\n",
    "    counter += 1\n",
    "    #The above moves the page forward by one"
   ]
  },
  {
   "cell_type": "code",
   "execution_count": null,
   "metadata": {},
   "outputs": [],
   "source": []
  },
  {
   "cell_type": "code",
   "execution_count": null,
   "metadata": {},
   "outputs": [],
   "source": []
  }
 ],
 "metadata": {
  "kernelspec": {
   "display_name": "Python 3",
   "language": "python",
   "name": "python3"
  }
 },
 "nbformat": 4,
 "nbformat_minor": 2
}
