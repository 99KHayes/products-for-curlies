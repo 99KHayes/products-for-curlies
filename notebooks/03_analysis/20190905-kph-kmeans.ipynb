{
 "cells": [
  {
   "cell_type": "code",
   "execution_count": 2,
   "metadata": {},
   "outputs": [
    {
     "name": "stdout",
     "output_type": "stream",
     "text": [
      "The autoreload extension is already loaded. To reload it, use:\n",
      "  %reload_ext autoreload\n"
     ]
    }
   ],
   "source": [
    "# Import packages\n",
    "from fuzzywuzzy import fuzz\n",
    "import pandas as pd\n",
    "import numpy as np\n",
    "import matplotlib.pyplot as plt\n",
    "import seaborn as sns\n",
    "from collections import Counter\n",
    "import pymongo\n",
    "import string\n",
    "import nltk\n",
    "import re\n",
    "import os\n",
    "import sys\n",
    "from sklearn.feature_extraction.text import TfidfVectorizer\n",
    "from sklearn.feature_selection import chi2\n",
    "from sklearn.model_selection import train_test_split\n",
    "from sklearn.model_selection import train_test_split\n",
    "from sklearn.feature_extraction.text import CountVectorizer\n",
    "from sklearn.svm import LinearSVC\n",
    "from sklearn.naive_bayes import MultinomialNB\n",
    "from sklearn.linear_model import LogisticRegression\n",
    "from sklearn.ensemble import RandomForestClassifier\n",
    "from sklearn.model_selection import cross_val_score\n",
    "from sklearn.metrics import confusion_matrix\n",
    "from sklearn.metrics import roc_curve, auc\n",
    "from sklearn.feature_extraction.text import TfidfVectorizer\n",
    "from sklearn.cluster import KMeans\n",
    "from sklearn.metrics import adjusted_rand_score\n",
    "import warnings\n",
    "warnings.filterwarnings('ignore')\n",
    "\n",
    "\n",
    "\n",
    "src_dir = os.path.join(os.getcwd(), '..', '..', 'src')\n",
    "sys.path.append(src_dir)\n",
    "\n",
    "# helper functions\n",
    "from d02_processing.cleaning_signatures import sorted_signatures\n",
    "from d02_processing.cleaning_signatures import cleaned_signatures\n",
    "from d01_utils.mongo_cursor_creator import mongo_cursor\n",
    "\n",
    "# Load the \"autoreload\" extension\n",
    "%load_ext autoreload\n",
    "\n",
    "# reload modules so that as you change code in src, it gets loaded\n",
    "%autoreload\n",
    "\n",
    "%matplotlib inline"
   ]
  },
  {
   "cell_type": "code",
   "execution_count": 3,
   "metadata": {},
   "outputs": [],
   "source": [
    "# open up a Mongo Connection and create a cursor\n",
    "myclient = pymongo.MongoClient(\"mongodb://127.0.0.1:27017/\")\n",
    "curlydb = myclient['Naturaly_Curly_db']\n",
    "curly_collection = curlydb['curly_profiles']"
   ]
  },
  {
   "cell_type": "code",
   "execution_count": 5,
   "metadata": {},
   "outputs": [
    {
     "name": "stdout",
     "output_type": "stream",
     "text": [
      "532489\n"
     ]
    }
   ],
   "source": [
    "# Access all the unique items and store them to a list\n",
    "query_1 = curly_collection.find({})\n",
    "test = []\n",
    "for x in query_1:\n",
    "    test.append(x['signature'])\n",
    "\n",
    "# This is the number of total entire in the database\n",
    "print(len(test)) "
   ]
  },
  {
   "cell_type": "code",
   "execution_count": 13,
   "metadata": {},
   "outputs": [
    {
     "name": "stdout",
     "output_type": "stream",
     "text": [
      "7961\n"
     ]
    },
    {
     "data": {
      "text/plain": [
       "['',\n",
       " 'My Routine:\\nCoconut oil drench the night before I co-wash\\nthen cowash and deep condition each time w/ Keracare Humecto, Joico Moisture Recovery and/or ApHogee 2min\\nthen usually airdry\\nGrapeseed oil nightly\\n\\n(no gel, mouse, or hair spray. My delicate, fine hair will tear if I even try to run my fingers through it with any of those. :angel9:)\\nMy go to leave ins are now: my regular conditioners listed above, gs oil, or PW77',\n",
       " '2a/b, low porosity, medium density, coarse',\n",
       " \"2c? 3a? Mostly coarse, but LOVIN' the proteins and fighting overconditioning! My hair is just plain weird :glasses1:\\n\\nLowPOO; Creme of Nature shampoo\\nCO; L'Oreal Nutrigloss & AOGBP\\nOther; nettle tea once a week instead of CO, JCRR, JCAS\\nStylers; KCCC, L'oreal studio line gel\\nDon't like; PVP, non-vegetable glycerine\\n\\nhttp://pscurly.blogspot.com/ <-- my very own, dutch, blog! Check it out :tongue3:\",\n",
       " 'tight coils/tight waves pen coil curls',\n",
       " ':love5:coily ~ kinky ~ fine ~ 4 ~ no-poo\\nDesert Essence Coconut & PC Hyrdrating Conditioner\\nDesert Essence Curling Creme & Druide Styling Gel',\n",
       " '-3b, high porosity, medium/fine texture (I guess).\\n-CG-ing since 29/9/2008 (on and off)\\n-lifeless, limp curls that need all sorts of protein in the universe.',\n",
       " '3a/3b coarse and frizzy.',\n",
       " '3b hair, bit damaged, not sure what to do with it most of the time - always wearing it up!',\n",
       " '2C/3A, medium-coarse texture, high density, medium-high porosity (years of heat damage and highlights)\\n\\nLow-Poo: SM Coconut & Hibiscus Shampoo\\nCo Wash: Suave Naturals Coconut\\nRinse Out:GVP Conditioning Balm, Tresemme Naturals, SM Coconut & Hibiscus\\nLI:KCNT\\nDT: GVP Conditioning Balm, Coconut Oil\\nStyler: KCCC, LA Looks Sport']"
      ]
     },
     "execution_count": 13,
     "metadata": {},
     "output_type": "execute_result"
    }
   ],
   "source": [
    "unique = list(set(test))\n",
    "print(len(unique))\n",
    "unique[0:10]"
   ]
  },
  {
   "cell_type": "code",
   "execution_count": 20,
   "metadata": {},
   "outputs": [
    {
     "name": "stdout",
     "output_type": "stream",
     "text": [
      "Top terms per cluster:\n",
      "Cluster 0:\n",
      " fotki com\n",
      " public fotki com\n",
      " public fotki\n",
      " http public\n",
      " http public fotki\n",
      " http public fotki com\n",
      " fotki http public\n",
      " fotki http public fotki com\n",
      " fotki http public fotki\n",
      " fotki http\n",
      "Cluster 1:\n",
      " 3b cg\n",
      " strawberry blonde\n",
      " 3a 3b cg\n",
      " need haircut\n",
      " strawberry blonde 3a\n",
      " 3a 3b\n",
      " desperate need haircut\n",
      " blonde 3a\n",
      " desperate need\n",
      " cg shampoo\n",
      "Cluster 2:\n",
      " low poo\n",
      " currently using\n",
      " conditioner leave\n",
      " poo conditioner\n",
      " conditioning balm\n",
      " suave naturals\n",
      " normal porosity\n",
      " shea moisture\n",
      " high porosity\n",
      " coconut oil\n",
      "Cluster 3:\n",
      " 3a 3b\n",
      " normal porosity\n",
      " texture normal\n",
      " normal elasticity\n",
      " texture normal porosity\n",
      " porosity normal\n",
      " normal porosity normal\n",
      " porosity normal elasticity\n",
      " normal porosity normal elasticity\n",
      " medium texture\n",
      "Cluster 4:\n",
      " 2c 3a\n",
      " la looks\n",
      " looks sport\n",
      " la looks sport\n",
      " 3a fine\n",
      " sport gel\n",
      " high porosity\n",
      " suave naturals\n",
      " looks sport gel\n",
      " 2c 3a fine\n",
      "Cluster 5:\n",
      " 2b 3a\n",
      " type 2b\n",
      " 2b 2c\n",
      " hair type\n",
      " hair type 2b\n",
      " high porosity\n",
      " type 2b 3a\n",
      " sigpic sigpic\n",
      " 3c 4a\n",
      " 2b hair\n",
      "Cluster 6:\n",
      " 3b 3c\n",
      " 3c 4a\n",
      " sigpic sigpic\n",
      " hair type\n",
      " http www\n",
      " shoulder length\n",
      " high porosity\n",
      " blogspot com\n",
      " curly hair\n",
      " fotki com\n",
      "Cluster 7:\n",
      " low porosity\n",
      " high density\n",
      " porosity high\n",
      " porosity high density\n",
      " porosity medium\n",
      " low porosity medium\n",
      " low porosity high\n",
      " medium density\n",
      " density medium\n",
      " low porosity high density\n",
      "Cluster 8:\n",
      " 3c 3b\n",
      " 3c 3b 4a\n",
      " 3b 4a\n",
      " 3c 3b thrown\n",
      " 3b thrown\n",
      " 3c 3b hair\n",
      " 3c 3b curls weird works\n",
      " weird works\n",
      " 3c 3b curls weird\n",
      " 3c 3b curls\n",
      "Cluster 9:\n",
      " type 3b\n",
      " 3b hair\n",
      " hair type\n",
      " herbal essences\n",
      " shampoo conditioner\n",
      " hair type 3b\n",
      " totally twisted\n",
      " essences totally\n",
      " herbal essences totally twisted\n",
      " herbal essences totally\n",
      "\n",
      "\n",
      "Prediction\n",
      "[7]\n",
      "[7]\n"
     ]
    }
   ],
   "source": [
    "\n",
    "\n",
    "documents = unique\n",
    "\n",
    "vectorizer = TfidfVectorizer(stop_words='english', ngram_range=(2, 5))\n",
    "X = vectorizer.fit_transform(documents)\n",
    "\n",
    "true_k = 10\n",
    "model = KMeans(n_clusters=true_k, init='random', max_iter=200, n_init=1)\n",
    "model.fit(X)\n",
    "\n",
    "print(\"Top terms per cluster:\")\n",
    "order_centroids = model.cluster_centers_.argsort()[:, ::-1]\n",
    "terms = vectorizer.get_feature_names()\n",
    "for i in range(true_k):\n",
    "    print(\"Cluster %d:\" % i),\n",
    "    for ind in order_centroids[i, :10]:\n",
    "        print(' %s' % terms[ind]),\n",
    "    print\n",
    "\n",
    "print(\"\\n\")\n",
    "print(\"Prediction\")\n",
    "\n",
    "Y = vectorizer.transform([\"2a wavy low porosity\"])\n",
    "prediction = model.predict(Y)\n",
    "print(prediction)\n",
    "\n",
    "Y = vectorizer.transform([\"4c low porosity medium/fine density thick, ecoslay marmalade\"])\n",
    "prediction = model.predict(Y)\n",
    "print(prediction)"
   ]
  },
  {
   "cell_type": "code",
   "execution_count": 17,
   "metadata": {},
   "outputs": [],
   "source": [
    "for s in unique:\n",
    "    s = re.sub(r'[^a-zA-Z0-9\\s]', ' ', s)\n",
    "    s = s.lower()\n",
    "    s = re.sub(r\"\\n\", \" \", s)\n",
    "    s = re.sub(r\"med\\s\", \"medium \", s)\n",
    "    s = re.sub(r\"hi\\s\", \"high \", s)\n",
    "    s = re.sub(r\"po\\s\", \"porosity \", s)\n",
    "    s = re.sub(r\"den\\s\", \"density \", s)\n",
    "    s = re.sub(r\"www\", \"\", s)\n",
    "    s = re.sub(r\"blog\", \"\", s)\n",
    "    s = re.sub(r\"naturallycurly\", \"\", s)\n",
    "    s = re.sub(r\"com\", \"\", s)\n",
    "    s = re.sub(r\"public\", \"\", s)\n",
    "    s = re.sub(r\"http\", \"\", s)\n",
    "    s = re.sub(r\"fotki\", \"\", s)\n",
    "    s = re.sub(r\"youtube\", \"\", s)\n",
    "    s = re.sub(r\"hair\", \"\", s)\n",
    "    s = re.sub(r\"trying\", \"\", s)\n",
    "    \n",
    "    "
   ]
  },
  {
   "cell_type": "code",
   "execution_count": 42,
   "metadata": {},
   "outputs": [
    {
     "ename": "IndentationError",
     "evalue": "unexpected indent (<ipython-input-42-727a024262bf>, line 2)",
     "output_type": "error",
     "traceback": [
      "\u001b[0;36m  File \u001b[0;32m\"<ipython-input-42-727a024262bf>\"\u001b[0;36m, line \u001b[0;32m2\u001b[0m\n\u001b[0;31m    stop_words_sigs = ['www', 'blog', 'naturallycurly', 'com', 'public', 'http', 'fotki', 'hair', 'trying', 'try','sigpic', 'youtube', 'channel', 'anxiety', 'depression', 'audrey', 'hepburn']\u001b[0m\n\u001b[0m    ^\u001b[0m\n\u001b[0;31mIndentationError\u001b[0m\u001b[0;31m:\u001b[0m unexpected indent\n"
     ]
    }
   ],
   "source": [
    "# look at stop words for things like 'be' got to be glued \n",
    "    stop_words_sigs = ['www', 'blog', 'naturallycurly', 'com', 'public', 'http', 'fotki', 'hair', 'trying', 'try','sigpic', 'youtube', 'channel', 'anxiety', 'depression', 'audrey', 'hepburn']"
   ]
  },
  {
   "cell_type": "code",
   "execution_count": 45,
   "metadata": {},
   "outputs": [
    {
     "ename": "IndentationError",
     "evalue": "unexpected indent (<ipython-input-45-9cebdf6ac40e>, line 2)",
     "output_type": "error",
     "traceback": [
      "\u001b[0;36m  File \u001b[0;32m\"<ipython-input-45-9cebdf6ac40e>\"\u001b[0;36m, line \u001b[0;32m2\u001b[0m\n\u001b[0;31m    stop_words_sigs = ['www', 'blog', 'naturallycurly', 'com', 'public', 'http', 'fotki', 'hair', 'trying', 'try','sigpic' , 'youtube', 'channel', 'anxiety', 'depression', 'audrey', 'hepburn']\u001b[0m\n\u001b[0m    ^\u001b[0m\n\u001b[0;31mIndentationError\u001b[0m\u001b[0;31m:\u001b[0m unexpected indent\n"
     ]
    }
   ],
   "source": [
    "# look at stop words for things like 'be' got to be glued \n",
    "    stop_words_sigs = ['www', 'blog', 'naturallycurly', 'com', 'public', 'http', 'fotki', 'hair', 'trying', 'try','sigpic' , 'youtube', 'channel', 'anxiety', 'depression', 'audrey', 'hepburn']"
   ]
  },
  {
   "cell_type": "code",
   "execution_count": 36,
   "metadata": {},
   "outputs": [
    {
     "data": {
      "text/plain": [
       "331"
      ]
     },
     "execution_count": 36,
     "metadata": {},
     "output_type": "execute_result"
    }
   ],
   "source": [
    "from sklearn.feature_extraction import text \n",
    "#len(text.ENGLISH_STOP_WORDS)\n",
    "hair_stop_words = text.ENGLISH_STOP_WORDS.union(stop_words_sigs)\n",
    "len(hair_stop_words)"
   ]
  },
  {
   "cell_type": "code",
   "execution_count": 37,
   "metadata": {},
   "outputs": [
    {
     "name": "stdout",
     "output_type": "stream",
     "text": [
      "Top terms per cluster:\n",
      "Cluster 0:\n",
      " 2b 3a\n",
      " big chop\n",
      " type 2b\n",
      " high porosity\n",
      " type 4a\n",
      " 3a 3b\n",
      " shoulder length\n",
      " type 2b 3a\n",
      " 2c 3a\n",
      " 3b fine\n",
      "Cluster 1:\n",
      " 3a redhead\n",
      " growing pixie\n",
      " cg low\n",
      " cg low poo\n",
      " modified cg low poo\n",
      " modified cg low\n",
      " low poo\n",
      " growing pixie cut\n",
      " pixie cut\n",
      " mousse hett\n",
      "Cluster 2:\n",
      " 2c 3a\n",
      " 3a 3b\n",
      " suave naturals\n",
      " high porosity\n",
      " shoulder length\n",
      " type 2c\n",
      " normal porosity\n",
      " low poo\n",
      " 3a fine\n",
      " 3a 2c\n",
      "Cluster 3:\n",
      " high density\n",
      " 2c 3a\n",
      " porosity high\n",
      " low porosity\n",
      " density medium\n",
      " medium porosity\n",
      " porosity high density\n",
      " porosity medium\n",
      " medium texture\n",
      " medium density\n",
      "Cluster 4:\n",
      " 3c 4a\n",
      " modified cg\n",
      " 4a 4b\n",
      " type 3c\n",
      " type 3c 4a\n",
      " 3b 3c 4a\n",
      " 3b 3c\n",
      " coconut oil\n",
      " 3c 4a 4b\n",
      " 3a modified\n",
      "Cluster 5:\n",
      " 3b 3c\n",
      " 3a 3b\n",
      " 2c 3a\n",
      " type 3b\n",
      " 3a fine\n",
      " type 3a\n",
      " shoulder length\n",
      " low poo\n",
      " 2b 2c\n",
      " suave naturals\n",
      "Cluster 6:\n",
      " green tea\n",
      " acai berry\n",
      " burts bee\n",
      " garnier wb\n",
      " green tea shampoo\n",
      " tea shampoo\n",
      " lll green\n",
      " lll green tea\n",
      " conditioner botanics\n",
      " jojoba coconut oil\n",
      "Cluster 7:\n",
      " nature gate\n",
      " gate aloe\n",
      " nature gate aloe\n",
      " cg 29\n",
      " tea tree\n",
      " cherry almond\n",
      " nature gate biotin\n",
      " gate biotin\n",
      " leave nature\n",
      " low poo\n",
      "Cluster 8:\n",
      " low porosity\n",
      " shea butter\n",
      " shea moisture\n",
      " tresemme naturals\n",
      " kinky curly\n",
      " coconut oil\n",
      " porosity fine\n",
      " suave naturals\n",
      " low poo\n",
      " fine low\n",
      "Cluster 9:\n",
      " audrey hepburn\n",
      " feel beautiful\n",
      " matter fact feel like expressing\n",
      " fact feel like expressing\n",
      " feel like expressing\n",
      " feel like expressing audrey\n",
      " feel like expressing audrey hepburn\n",
      " fact feel\n",
      " fact feel like\n",
      " like expressing audrey\n",
      "\n",
      "\n",
      "Prediction\n",
      "[8]\n",
      "[3]\n"
     ]
    }
   ],
   "source": [
    "\n",
    "\n",
    "documents = unique\n",
    "\n",
    "vectorizer = TfidfVectorizer(stop_words=hair_stop_words, ngram_range=(2, 5))\n",
    "X = vectorizer.fit_transform(documents)\n",
    "\n",
    "true_k = 10\n",
    "model = KMeans(n_clusters=true_k, init='random', max_iter=200, n_init=1)\n",
    "model.fit(X)\n",
    "\n",
    "print(\"Top terms per cluster:\")\n",
    "order_centroids = model.cluster_centers_.argsort()[:, ::-1]\n",
    "terms = vectorizer.get_feature_names()\n",
    "for i in range(true_k):\n",
    "    print(\"Cluster %d:\" % i),\n",
    "    for ind in order_centroids[i, :10]:\n",
    "        print(' %s' % terms[ind]),\n",
    "    print\n",
    "\n",
    "print(\"\\n\")\n",
    "print(\"Prediction\")\n",
    "\n",
    "Y = vectorizer.transform([\"2a wavy low porosity\"])\n",
    "prediction = model.predict(Y)\n",
    "print(prediction)\n",
    "\n",
    "Y = vectorizer.transform([\"4c low porosity medium/fine density thick, ecoslay marmalade\"])\n",
    "prediction = model.predict(Y)\n",
    "print(prediction)"
   ]
  },
  {
   "cell_type": "code",
   "execution_count": 29,
   "metadata": {},
   "outputs": [],
   "source": [
    "# After getting clusters then maybe run the cleaning algorithm on each cluster \n",
    "# and then plot most common characteristics, do pattens emerge?"
   ]
  },
  {
   "cell_type": "code",
   "execution_count": 34,
   "metadata": {},
   "outputs": [
    {
     "data": {
      "image/png": "[encoded data removed]",
      "text/plain": [
       "<Figure size 432x288 with 1 Axes>"
      ]
     },
     "metadata": {
      "needs_background": "light"
     },
     "output_type": "display_data"
    }
   ],
   "source": [
    "Nc = range(2, 20)\n",
    "\n",
    "kmeans = [KMeans(n_clusters=i) for i in Nc]\n",
    "\n",
    "kmeans\n",
    "\n",
    "score = [kmeans[i].fit(X).score(X) for i in range(len(kmeans))]\n",
    "\n",
    "score\n",
    "\n",
    "plt.plot(Nc,score)\n",
    "plt.xlabel('Number of Clusters')\n",
    "plt.ylabel('Score')\n",
    "plt.title('Elbow Curve')\n",
    "plt.show()"
   ]
  },
  {
   "cell_type": "code",
   "execution_count": null,
   "metadata": {},
   "outputs": [],
   "source": []
  },
  {
   "cell_type": "code",
   "execution_count": null,
   "metadata": {},
   "outputs": [],
   "source": []
  }
 ],
 "metadata": {
  "kernelspec": {
   "display_name": "Python 3",
   "language": "python",
   "name": "python3"
  },
  "language_info": {
   "codemirror_mode": {
    "name": "ipython",
    "version": 3
   },
   "file_extension": ".py",
   "mimetype": "text/x-python",
   "name": "python",
   "nbconvert_exporter": "python",
   "pygments_lexer": "ipython3",
   "version": "3.7.3"
  }
 },
 "nbformat": 4,
 "nbformat_minor": 2
}
